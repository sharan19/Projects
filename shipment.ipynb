{
  "nbformat": 4,
  "nbformat_minor": 0,
  "metadata": {
    "colab": {
      "name": "shipment.ipynb",
      "provenance": [],
      "toc_visible": true,
      "authorship_tag": "ABX9TyMQWv6/3HqFHwV6b84xaRGM",
      "include_colab_link": true
    },
    "kernelspec": {
      "name": "python3",
      "display_name": "Python 3"
    }
  },
  "cells": [
    {
      "cell_type": "markdown",
      "metadata": {
        "id": "view-in-github",
        "colab_type": "text"
      },
      "source": [
        "<a href=\"https://colab.research.google.com/github/sharan19/Projects/blob/master/shipment.ipynb\" target=\"_parent\"><img src=\"https://colab.research.google.com/assets/colab-badge.svg\" alt=\"Open In Colab\"/></a>"
      ]
    },
    {
      "cell_type": "code",
      "metadata": {
        "id": "8EZoYrUKYxfx",
        "colab_type": "code",
        "colab": {}
      },
      "source": [
        "import pandas as pd\n",
        "import numpy as np\n",
        "import matplotlib.pyplot as plt\n"
      ],
      "execution_count": 0,
      "outputs": []
    },
    {
      "cell_type": "code",
      "metadata": {
        "id": "PX_9c9QmZsNv",
        "colab_type": "code",
        "colab": {
          "resources": {
            "http://localhost:8080/nbextensions/google.colab/files.js": {
              "data": "Ly8gQ29weXJpZ2h0IDIwMTcgR29vZ2xlIExMQwovLwovLyBMaWNlbnNlZCB1bmRlciB0aGUgQXBhY2hlIExpY2Vuc2UsIFZlcnNpb24gMi4wICh0aGUgIkxpY2Vuc2UiKTsKLy8geW91IG1heSBub3QgdXNlIHRoaXMgZmlsZSBleGNlcHQgaW4gY29tcGxpYW5jZSB3aXRoIHRoZSBMaWNlbnNlLgovLyBZb3UgbWF5IG9idGFpbiBhIGNvcHkgb2YgdGhlIExpY2Vuc2UgYXQKLy8KLy8gICAgICBodHRwOi8vd3d3LmFwYWNoZS5vcmcvbGljZW5zZXMvTElDRU5TRS0yLjAKLy8KLy8gVW5sZXNzIHJlcXVpcmVkIGJ5IGFwcGxpY2FibGUgbGF3IG9yIGFncmVlZCB0byBpbiB3cml0aW5nLCBzb2Z0d2FyZQovLyBkaXN0cmlidXRlZCB1bmRlciB0aGUgTGljZW5zZSBpcyBkaXN0cmlidXRlZCBvbiBhbiAiQVMgSVMiIEJBU0lTLAovLyBXSVRIT1VUIFdBUlJBTlRJRVMgT1IgQ09ORElUSU9OUyBPRiBBTlkgS0lORCwgZWl0aGVyIGV4cHJlc3Mgb3IgaW1wbGllZC4KLy8gU2VlIHRoZSBMaWNlbnNlIGZvciB0aGUgc3BlY2lmaWMgbGFuZ3VhZ2UgZ292ZXJuaW5nIHBlcm1pc3Npb25zIGFuZAovLyBsaW1pdGF0aW9ucyB1bmRlciB0aGUgTGljZW5zZS4KCi8qKgogKiBAZmlsZW92ZXJ2aWV3IEhlbHBlcnMgZm9yIGdvb2dsZS5jb2xhYiBQeXRob24gbW9kdWxlLgogKi8KKGZ1bmN0aW9uKHNjb3BlKSB7CmZ1bmN0aW9uIHNwYW4odGV4dCwgc3R5bGVBdHRyaWJ1dGVzID0ge30pIHsKICBjb25zdCBlbGVtZW50ID0gZG9jdW1lbnQuY3JlYXRlRWxlbWVudCgnc3BhbicpOwogIGVsZW1lbnQudGV4dENvbnRlbnQgPSB0ZXh0OwogIGZvciAoY29uc3Qga2V5IG9mIE9iamVjdC5rZXlzKHN0eWxlQXR0cmlidXRlcykpIHsKICAgIGVsZW1lbnQuc3R5bGVba2V5XSA9IHN0eWxlQXR0cmlidXRlc1trZXldOwogIH0KICByZXR1cm4gZWxlbWVudDsKfQoKLy8gTWF4IG51bWJlciBvZiBieXRlcyB3aGljaCB3aWxsIGJlIHVwbG9hZGVkIGF0IGEgdGltZS4KY29uc3QgTUFYX1BBWUxPQURfU0laRSA9IDEwMCAqIDEwMjQ7Ci8vIE1heCBhbW91bnQgb2YgdGltZSB0byBibG9jayB3YWl0aW5nIGZvciB0aGUgdXNlci4KY29uc3QgRklMRV9DSEFOR0VfVElNRU9VVF9NUyA9IDMwICogMTAwMDsKCmZ1bmN0aW9uIF91cGxvYWRGaWxlcyhpbnB1dElkLCBvdXRwdXRJZCkgewogIGNvbnN0IHN0ZXBzID0gdXBsb2FkRmlsZXNTdGVwKGlucHV0SWQsIG91dHB1dElkKTsKICBjb25zdCBvdXRwdXRFbGVtZW50ID0gZG9jdW1lbnQuZ2V0RWxlbWVudEJ5SWQob3V0cHV0SWQpOwogIC8vIENhY2hlIHN0ZXBzIG9uIHRoZSBvdXRwdXRFbGVtZW50IHRvIG1ha2UgaXQgYXZhaWxhYmxlIGZvciB0aGUgbmV4dCBjYWxsCiAgLy8gdG8gdXBsb2FkRmlsZXNDb250aW51ZSBmcm9tIFB5dGhvbi4KICBvdXRwdXRFbGVtZW50LnN0ZXBzID0gc3RlcHM7CgogIHJldHVybiBfdXBsb2FkRmlsZXNDb250aW51ZShvdXRwdXRJZCk7Cn0KCi8vIFRoaXMgaXMgcm91Z2hseSBhbiBhc3luYyBnZW5lcmF0b3IgKG5vdCBzdXBwb3J0ZWQgaW4gdGhlIGJyb3dzZXIgeWV0KSwKLy8gd2hlcmUgdGhlcmUgYXJlIG11bHRpcGxlIGFzeW5jaHJvbm91cyBzdGVwcyBhbmQgdGhlIFB5dGhvbiBzaWRlIGlzIGdvaW5nCi8vIHRvIHBvbGwgZm9yIGNvbXBsZXRpb24gb2YgZWFjaCBzdGVwLgovLyBUaGlzIHVzZXMgYSBQcm9taXNlIHRvIGJsb2NrIHRoZSBweXRob24gc2lkZSBvbiBjb21wbGV0aW9uIG9mIGVhY2ggc3RlcCwKLy8gdGhlbiBwYXNzZXMgdGhlIHJlc3VsdCBvZiB0aGUgcHJldmlvdXMgc3RlcCBhcyB0aGUgaW5wdXQgdG8gdGhlIG5leHQgc3RlcC4KZnVuY3Rpb24gX3VwbG9hZEZpbGVzQ29udGludWUob3V0cHV0SWQpIHsKICBjb25zdCBvdXRwdXRFbGVtZW50ID0gZG9jdW1lbnQuZ2V0RWxlbWVudEJ5SWQob3V0cHV0SWQpOwogIGNvbnN0IHN0ZXBzID0gb3V0cHV0RWxlbWVudC5zdGVwczsKCiAgY29uc3QgbmV4dCA9IHN0ZXBzLm5leHQob3V0cHV0RWxlbWVudC5sYXN0UHJvbWlzZVZhbHVlKTsKICByZXR1cm4gUHJvbWlzZS5yZXNvbHZlKG5leHQudmFsdWUucHJvbWlzZSkudGhlbigodmFsdWUpID0+IHsKICAgIC8vIENhY2hlIHRoZSBsYXN0IHByb21pc2UgdmFsdWUgdG8gbWFrZSBpdCBhdmFpbGFibGUgdG8gdGhlIG5leHQKICAgIC8vIHN0ZXAgb2YgdGhlIGdlbmVyYXRvci4KICAgIG91dHB1dEVsZW1lbnQubGFzdFByb21pc2VWYWx1ZSA9IHZhbHVlOwogICAgcmV0dXJuIG5leHQudmFsdWUucmVzcG9uc2U7CiAgfSk7Cn0KCi8qKgogKiBHZW5lcmF0b3IgZnVuY3Rpb24gd2hpY2ggaXMgY2FsbGVkIGJldHdlZW4gZWFjaCBhc3luYyBzdGVwIG9mIHRoZSB1cGxvYWQKICogcHJvY2Vzcy4KICogQHBhcmFtIHtzdHJpbmd9IGlucHV0SWQgRWxlbWVudCBJRCBvZiB0aGUgaW5wdXQgZmlsZSBwaWNrZXIgZWxlbWVudC4KICogQHBhcmFtIHtzdHJpbmd9IG91dHB1dElkIEVsZW1lbnQgSUQgb2YgdGhlIG91dHB1dCBkaXNwbGF5LgogKiBAcmV0dXJuIHshSXRlcmFibGU8IU9iamVjdD59IEl0ZXJhYmxlIG9mIG5leHQgc3RlcHMuCiAqLwpmdW5jdGlvbiogdXBsb2FkRmlsZXNTdGVwKGlucHV0SWQsIG91dHB1dElkKSB7CiAgY29uc3QgaW5wdXRFbGVtZW50ID0gZG9jdW1lbnQuZ2V0RWxlbWVudEJ5SWQoaW5wdXRJZCk7CiAgaW5wdXRFbGVtZW50LmRpc2FibGVkID0gZmFsc2U7CgogIGNvbnN0IG91dHB1dEVsZW1lbnQgPSBkb2N1bWVudC5nZXRFbGVtZW50QnlJZChvdXRwdXRJZCk7CiAgb3V0cHV0RWxlbWVudC5pbm5lckhUTUwgPSAnJzsKCiAgY29uc3QgcGlja2VkUHJvbWlzZSA9IG5ldyBQcm9taXNlKChyZXNvbHZlKSA9PiB7CiAgICBpbnB1dEVsZW1lbnQuYWRkRXZlbnRMaXN0ZW5lcignY2hhbmdlJywgKGUpID0+IHsKICAgICAgcmVzb2x2ZShlLnRhcmdldC5maWxlcyk7CiAgICB9KTsKICB9KTsKCiAgY29uc3QgY2FuY2VsID0gZG9jdW1lbnQuY3JlYXRlRWxlbWVudCgnYnV0dG9uJyk7CiAgaW5wdXRFbGVtZW50LnBhcmVudEVsZW1lbnQuYXBwZW5kQ2hpbGQoY2FuY2VsKTsKICBjYW5jZWwudGV4dENvbnRlbnQgPSAnQ2FuY2VsIHVwbG9hZCc7CiAgY29uc3QgY2FuY2VsUHJvbWlzZSA9IG5ldyBQcm9taXNlKChyZXNvbHZlKSA9PiB7CiAgICBjYW5jZWwub25jbGljayA9ICgpID0+IHsKICAgICAgcmVzb2x2ZShudWxsKTsKICAgIH07CiAgfSk7CgogIC8vIENhbmNlbCB1cGxvYWQgaWYgdXNlciBoYXNuJ3QgcGlja2VkIGFueXRoaW5nIGluIHRpbWVvdXQuCiAgY29uc3QgdGltZW91dFByb21pc2UgPSBuZXcgUHJvbWlzZSgocmVzb2x2ZSkgPT4gewogICAgc2V0VGltZW91dCgoKSA9PiB7CiAgICAgIHJlc29sdmUobnVsbCk7CiAgICB9LCBGSUxFX0NIQU5HRV9USU1FT1VUX01TKTsKICB9KTsKCiAgLy8gV2FpdCBmb3IgdGhlIHVzZXIgdG8gcGljayB0aGUgZmlsZXMuCiAgY29uc3QgZmlsZXMgPSB5aWVsZCB7CiAgICBwcm9taXNlOiBQcm9taXNlLnJhY2UoW3BpY2tlZFByb21pc2UsIHRpbWVvdXRQcm9taXNlLCBjYW5jZWxQcm9taXNlXSksCiAgICByZXNwb25zZTogewogICAgICBhY3Rpb246ICdzdGFydGluZycsCiAgICB9CiAgfTsKCiAgaWYgKCFmaWxlcykgewogICAgcmV0dXJuIHsKICAgICAgcmVzcG9uc2U6IHsKICAgICAgICBhY3Rpb246ICdjb21wbGV0ZScsCiAgICAgIH0KICAgIH07CiAgfQoKICBjYW5jZWwucmVtb3ZlKCk7CgogIC8vIERpc2FibGUgdGhlIGlucHV0IGVsZW1lbnQgc2luY2UgZnVydGhlciBwaWNrcyBhcmUgbm90IGFsbG93ZWQuCiAgaW5wdXRFbGVtZW50LmRpc2FibGVkID0gdHJ1ZTsKCiAgZm9yIChjb25zdCBmaWxlIG9mIGZpbGVzKSB7CiAgICBjb25zdCBsaSA9IGRvY3VtZW50LmNyZWF0ZUVsZW1lbnQoJ2xpJyk7CiAgICBsaS5hcHBlbmQoc3BhbihmaWxlLm5hbWUsIHtmb250V2VpZ2h0OiAnYm9sZCd9KSk7CiAgICBsaS5hcHBlbmQoc3BhbigKICAgICAgICBgKCR7ZmlsZS50eXBlIHx8ICduL2EnfSkgLSAke2ZpbGUuc2l6ZX0gYnl0ZXMsIGAgKwogICAgICAgIGBsYXN0IG1vZGlmaWVkOiAkewogICAgICAgICAgICBmaWxlLmxhc3RNb2RpZmllZERhdGUgPyBmaWxlLmxhc3RNb2RpZmllZERhdGUudG9Mb2NhbGVEYXRlU3RyaW5nKCkgOgogICAgICAgICAgICAgICAgICAgICAgICAgICAgICAgICAgICAnbi9hJ30gLSBgKSk7CiAgICBjb25zdCBwZXJjZW50ID0gc3BhbignMCUgZG9uZScpOwogICAgbGkuYXBwZW5kQ2hpbGQocGVyY2VudCk7CgogICAgb3V0cHV0RWxlbWVudC5hcHBlbmRDaGlsZChsaSk7CgogICAgY29uc3QgZmlsZURhdGFQcm9taXNlID0gbmV3IFByb21pc2UoKHJlc29sdmUpID0+IHsKICAgICAgY29uc3QgcmVhZGVyID0gbmV3IEZpbGVSZWFkZXIoKTsKICAgICAgcmVhZGVyLm9ubG9hZCA9IChlKSA9PiB7CiAgICAgICAgcmVzb2x2ZShlLnRhcmdldC5yZXN1bHQpOwogICAgICB9OwogICAgICByZWFkZXIucmVhZEFzQXJyYXlCdWZmZXIoZmlsZSk7CiAgICB9KTsKICAgIC8vIFdhaXQgZm9yIHRoZSBkYXRhIHRvIGJlIHJlYWR5LgogICAgbGV0IGZpbGVEYXRhID0geWllbGQgewogICAgICBwcm9taXNlOiBmaWxlRGF0YVByb21pc2UsCiAgICAgIHJlc3BvbnNlOiB7CiAgICAgICAgYWN0aW9uOiAnY29udGludWUnLAogICAgICB9CiAgICB9OwoKICAgIC8vIFVzZSBhIGNodW5rZWQgc2VuZGluZyB0byBhdm9pZCBtZXNzYWdlIHNpemUgbGltaXRzLiBTZWUgYi82MjExNTY2MC4KICAgIGxldCBwb3NpdGlvbiA9IDA7CiAgICB3aGlsZSAocG9zaXRpb24gPCBmaWxlRGF0YS5ieXRlTGVuZ3RoKSB7CiAgICAgIGNvbnN0IGxlbmd0aCA9IE1hdGgubWluKGZpbGVEYXRhLmJ5dGVMZW5ndGggLSBwb3NpdGlvbiwgTUFYX1BBWUxPQURfU0laRSk7CiAgICAgIGNvbnN0IGNodW5rID0gbmV3IFVpbnQ4QXJyYXkoZmlsZURhdGEsIHBvc2l0aW9uLCBsZW5ndGgpOwogICAgICBwb3NpdGlvbiArPSBsZW5ndGg7CgogICAgICBjb25zdCBiYXNlNjQgPSBidG9hKFN0cmluZy5mcm9tQ2hhckNvZGUuYXBwbHkobnVsbCwgY2h1bmspKTsKICAgICAgeWllbGQgewogICAgICAgIHJlc3BvbnNlOiB7CiAgICAgICAgICBhY3Rpb246ICdhcHBlbmQnLAogICAgICAgICAgZmlsZTogZmlsZS5uYW1lLAogICAgICAgICAgZGF0YTogYmFzZTY0LAogICAgICAgIH0sCiAgICAgIH07CiAgICAgIHBlcmNlbnQudGV4dENvbnRlbnQgPQogICAgICAgICAgYCR7TWF0aC5yb3VuZCgocG9zaXRpb24gLyBmaWxlRGF0YS5ieXRlTGVuZ3RoKSAqIDEwMCl9JSBkb25lYDsKICAgIH0KICB9CgogIC8vIEFsbCBkb25lLgogIHlpZWxkIHsKICAgIHJlc3BvbnNlOiB7CiAgICAgIGFjdGlvbjogJ2NvbXBsZXRlJywKICAgIH0KICB9Owp9CgpzY29wZS5nb29nbGUgPSBzY29wZS5nb29nbGUgfHwge307CnNjb3BlLmdvb2dsZS5jb2xhYiA9IHNjb3BlLmdvb2dsZS5jb2xhYiB8fCB7fTsKc2NvcGUuZ29vZ2xlLmNvbGFiLl9maWxlcyA9IHsKICBfdXBsb2FkRmlsZXMsCiAgX3VwbG9hZEZpbGVzQ29udGludWUsCn07Cn0pKHNlbGYpOwo=",
              "ok": true,
              "headers": [
                [
                  "content-type",
                  "application/javascript"
                ]
              ],
              "status": 200,
              "status_text": ""
            }
          },
          "base_uri": "https://localhost:8080/",
          "height": 111
        },
        "outputId": "08355d83-6488-47e4-c942-09addc96d794"
      },
      "source": [
        "from google.colab import files\n",
        "files.upload()"
      ],
      "execution_count": 5,
      "outputs": [
        {
          "output_type": "display_data",
          "data": {
            "text/html": [
              "\n",
              "     <input type=\"file\" id=\"files-904a9c71-69b4-46fc-adc6-7f5a0fbe6681\" name=\"files[]\" multiple disabled />\n",
              "     <output id=\"result-904a9c71-69b4-46fc-adc6-7f5a0fbe6681\">\n",
              "      Upload widget is only available when the cell has been executed in the\n",
              "      current browser session. Please rerun this cell to enable.\n",
              "      </output>\n",
              "      <script src=\"/nbextensions/google.colab/files.js\"></script> "
            ],
            "text/plain": [
              "<IPython.core.display.HTML object>"
            ]
          },
          "metadata": {
            "tags": []
          }
        },
        {
          "output_type": "stream",
          "text": [
            "Saving OMR.csv to OMR (1).csv\n"
          ],
          "name": "stdout"
        },
        {
          "output_type": "execute_result",
          "data": {
            "text/plain": [
              "{'OMR.csv': b'\"Dealer\",\"End Customer\",\"Ship TO\",\"Model\",\"Serial No\",\"Order\",\"PO Number\",\"Order Info\",\"Status\",\"Est. Completion Date\",\"Completion Date\",\"Carrier\"\\r\\n\"FO118\",\"ACWA AUTOMATICS LLP\",\"ACWA AUTOMATICS LLP\",\"VF-2-I\",\"1170415\",\"2122224\",\"J2020-09\",\"SN: 1170415Order: 2122224PO: J2020-09\",\"Order has Shipped\",\"02/10/2020 to 02/15/2020\",\"Shipped - 02/28/2020\",\"WESTERN\"\\r\\n\"FO118\",\"ANJANA ENGINEERING WORKS\",\"ANJANA ENGINEERING WORKS\",\"VF-4-I\",\"1170489\",\"2123392\",\"J2020-13\",\"SN: 1170489Order: 2123392PO: J2020-13\",\"Order has Shipped\",\"02/03/2020 to 02/08/2020\",\"Shipped - 03/10/2020\",\"WESTERN\"\\r\\n\"FO118\",\"ANJANA ENGINEERING WORKS\",\"ANJANA ENGINEERING WORKS\",\"HRT310\",\"319841\",\"2123392\",\"J2020-13\",\"SN: 319841Order: 2123392PO: J2020-13\",\"Order has Shipped\",\"11/18/2019 to 11/23/2019\",\"Shipped - 03/10/2020\",\"WESTERN\"\\r\\n\"FO118\",\"KAPSI ELECTRICAL POWER PRODUCT\",\"KAPSI ELECTRICAL POWER PRODUCT\",\"VF-4-I\",\"1170747\",\"2123395\",\"J2020-14\",\"SN: 1170747Order: 2123395PO: J2020-14\",\"Order has Shipped\",\"02/17/2020 to 02/22/2020\",\"Shipped - 03/05/2020\",\"WESTERN\"\\r\\n\"FO118\",\"VIOLIN TECHNOLOGIES PRIVATE LI\",\"VIOLIN TECHNOLOGIES PRIVATE LI\",\"VF-2-I\",\"1170578\",\"2125679\",\"J2020-16\",\"SN: 1170578Order: 2125679PO: J2020-16\",\"Order has Shipped\",\"02/10/2020 to 02/15/2020\",\"Shipped - 02/28/2020\",\"WESTERN\"\\r\\n\"FO118\",\"VIOLIN TECHNOLOGIES PRIVATE LI\",\"VIOLIN TECHNOLOGIES PRIVATE LI\",\"HRT210\",\"238055\",\"2125679\",\"J2020-16\",\"SN: 238055Order: 2125679PO: J2020-16\",\"Order has Shipped\",\"12/16/2019 to 12/21/2019\",\"Shipped - 02/28/2020\",\"WESTERN\"\\r\\n\"FO118\",\"MANAV MARKETING PVT. LTD\",\"MANAV MARKETING PVT. LTD.\",\"VF-4-I\",\"1170582\",\"2125689\",\"J2020-06\",\"SN: 1170582Order: 2125689PO: J2020-06\",\"Order has Shipped\",\"02/10/2020 to 02/15/2020\",\"Shipped - 03/05/2020\",\"WESTERN\"\\r\\n\"FO118\",\"Manav Marketing Pvt. Ltd\",\"Manav Marketing Pvt. Ltd\",\"UMC-500\",\"1170647\",\"2125706\",\"J2020-16\",\"SN: 1170647Order: 2125706PO: J2020-16\",\"Order has Shipped\",\"02/17/2020 to 02/22/2020\",\"Shipped - 03/18/2020\",\"WESTERN\"\\r\\n\"FO118\",\"MANAV MARKETING PVT. LTD\",\"MANAV MARKETING PVT. LTD.\",\"VF-2-I\",\"1170938\",\"2133488\",\"J2020-19\",\"SN: 1170938Order: 2133488PO: J2020-19\",\"Order has Shipped\",\"02/24/2020 to 02/29/2020\",\"Shipped - 02/28/2020\",\"WESTERN\"\\r\\n\"FO118\",\"MANAV MARKETING PVT. LTD\",\"MANAV MARKETING PVT. LTD.\",\"VF-2-I\",\"1170966\",\"2133503\",\"J2020-20\",\"SN: 1170966Order: 2133503PO: J2020-20\",\"Order has Shipped\",\"02/24/2020 to 02/29/2020\",\"Shipped - 02/28/2020\",\"WESTERN\"\\r\\n\"FO118\",\"SSF PLASTICS INDIA PRIVATE LIM\",\"SSF PLASTICS INDIA PRIVATE LIM\",\"VF-2-I\",\"1171129\",\"2137371\",\"F2020-25\",\"SN: 1171129Order: 2137371PO: F2020-25\",\"Order has Shipped\",\"03/02/2020 to 03/07/2020\",\"Shipped - 03/30/2020\",\"WESTERN\"\\r\\n\"FO118\",\"SSF PLASTICS INDIA PRIVATE LIM\",\"SSF PLASTICS INDIA PRIVATE LIM\",\"HRT210\",\"238156\",\"2137371\",\"F2020-25\",\"SN: 238156Order: 2137371PO: F2020-25\",\"Order has Shipped\",\"01/27/2020 to 02/01/2020\",\"Shipped - 03/30/2020\",\"WESTERN\"\\r\\n\"FO118\",\"MANAV MARKETING PVT. LTD\",\"MANAV MARKETING PVT. LTD.\",\"VF-2-I\",\"1171221\",\"2140413\",\"F2020-22\",\"SN: 1171221Order: 2140413PO: F2020-22\",\"Order has Shipped\",\"03/09/2020 to 03/14/2020\",\"Shipped - 03/18/2020\",\"WESTERN\"\\r\\n\"FO118\",\"MANAV MARKETING PVT. LTD\",\"MANAV MARKETING PVT. LTD.\",\"VF-2-I\",\"1171218\",\"2140414\",\"F2020-21\",\"SN: 1171218Order: 2140414PO: F2020-21\",\"Order has Shipped\",\"03/09/2020 to 03/14/2020\",\"Shipped - 03/18/2020\",\"WESTERN\"\\r\\n\"FO118\",\"MANAV MARKETING PVT. LTD\",\"MANAV MARKETING PVT. LTD.\",\"VF-4-I\",\"1171112\",\"2140416\",\"F2020-24\",\"SN: 1171112Order: 2140416PO: F2020-24\",\"Order has Shipped\",\"03/02/2020 to 03/07/2020\",\"Shipped - 03/05/2020\",\"WESTERN\"\\r\\n\"FO118\",\"MANAV MARKETING PVT. LTD\",\"MANAV MARKETING PVT. LTD.\",\"VF-2-I\",\"1171220\",\"2140417\",\"F2020-23\",\"SN: 1171220Order: 2140417PO: F2020-23\",\"Order has Shipped\",\"03/09/2020 to 03/14/2020\",\"Shipped - 03/10/2020\",\"WESTERN\"\\r\\n\"FO118\",\"G-PLAST (P) LIMITED\",\"G-PLAST (P) LIMITED\",\"UMC-500\",\"1171551\",\"2140517\",\"F2020-26\",\"SN: 1171551Order: 2140517PO: F2020-26\",\"Being Built\",\"03/30/2020 to 04/04/2020\",\"04/14/2020\",\"WESTERN\"\\r\\n\"FO118\",\"ASTON DIETECH\",\"MANAV MARKETING PVT. LTD.\",\"VF-4-I\",\"1171209\",\"2143219\",\"F2020-27\",\"SN: 1171209Order: 2143219PO: F2020-27\",\"Order has Shipped\",\"03/09/2020 to 03/14/2020\",\"Shipped - 03/10/2020\",\"WESTERN\"\\r\\n\"FO118\",\"ARUL ENGIENERING WORKS\",\"MANAV MARKETING PVT. LTD.\",\"VF-2-I\",\"1171329\",\"2143222\",\"F2020-28\",\"SN: 1171329Order: 2143222PO: F2020-28\",\"Ready to Ship\",\"03/09/2020 to 03/14/2020\",\"Ready to Ship - 03/13/2020\",\"WESTERN\"\\r\\n\"FO118\",\"Recaero India Pvt. Ltd\",\"Recaero India Pvt. Ltd\",\"UMC-750\",\"1171317\",\"2144849\",\"J2020-18\",\"SN: 1171317Order: 2144849PO: J2020-18\",\"Order has Shipped\",\"03/16/2020 to 03/21/2020\",\"Shipped - 03/30/2020\",\"WESTERN\"\\r\\n\"FO118\",\"MANAV MARKETING PVT. LTD\",\"MANAV MARKETING PVT. LTD.\",\"HRT210\",\"238162\",\"2144871\",\"F2020-30\",\"SN: 238162Order: 2144871PO: F2020-30\",\"Order has Shipped\",\"01/27/2020 to 02/01/2020\",\"Shipped - 03/05/2020\",\"SEE\"\\r\\n\"FO118\",\"MANAV MARKETING PVT. LTD\",\"MANAV MARKETING PVT. LTD.\",\"HRT210\",\"238166\",\"2144872\",\"F2020-31\",\"SN: 238166Order: 2144872PO: F2020-31\",\"Order has Shipped\",\"01/27/2020 to 02/01/2020\",\"Shipped - 03/05/2020\",\"SEE\"\\r\\n\"FO118\",\"MANAV MARKETING PVT. LTD\",\"MANAV MARKETING PVT. LTD.\",\"HRT210\",\"238158\",\"2144875\",\"F2020-33\",\"SN: 238158Order: 2144875PO: F2020-33\",\"Order has Shipped\",\"01/27/2020 to 02/01/2020\",\"Shipped - 03/05/2020\",\"SEE\"\\r\\n\"FO118\",\"MANAV MARKETING PVT. LTD\",\"MANAV MARKETING PVT. LTD.\",\"HRT210\",\"238154\",\"2144876\",\"F2020-32\",\"SN: 238154Order: 2144876PO: F2020-32\",\"Order has Shipped\",\"01/20/2020 to 01/25/2020\",\"Shipped - 03/05/2020\",\"SEE\"\\r\\n\"FO118\",\"MANAV MARKETING PVT. LTD\",\"MANAV MARKETING PVT. LTD.\",\"HRT210\",\"238157\",\"2144878\",\"F2020-29\",\"SN: 238157Order: 2144878PO: F2020-29\",\"Order has Shipped\",\"01/27/2020 to 02/01/2020\",\"Shipped - 03/05/2020\",\"SEE\"\\r\\n\"FO118\",\"SVM PRIVATE LIMITED\",\"SVM PRIVATE LIMITED\",\"VF-2-I\",\"1171534\",\"2150921\",\"M2020-34\",\"SN: 1171534Order: 2150921PO: M2020-34\",\"Order has Shipped\",\"03/23/2020 to 03/28/2020\",\"Shipped - 03/30/2020\",\"WESTERN\"\\r\\n\"FO118\",\"Government Tool Room & Trainin\",\"MANAV MARKETING PVT. LTD.\",\"VF-2-I\",\"1171717\",\"2156378\",\"M2020-36\",\"SN: 1171717Order: 2156378PO: M2020-36\",\"Being Built\",\"04/06/2020 to 04/11/2020\",\"04/08/2020\",\"WESTERN\"\\r\\n\"FO118\",\"Government Tool Room & Trainin\",\"MANAV MARKETING PVT. LTD.\",\"VF-2-I\",\"1171716\",\"2156379\",\"M2020-37\",\"SN: 1171716Order: 2156379PO: M2020-37\",\"Being Built\",\"04/06/2020 to 04/11/2020\",\"04/09/2020\",\"WESTERN\"\\r\\n\"FO118\",\"Government Tool Room & Trainin\",\"MANAV MARKETING PVT. LTD.\",\"VF-2-I\",\"\",\"2156381\",\"M2020-38\",\"SN: Order: 2156381PO: M2020-38\",\"In Process\",\"07/06/2020 to 07/11/2020\",\"07/06/2020 to 07/11/2020\",\"WESTERN\"\\r\\n\"FO118\",\"Government Tool Room & Trainin\",\"MANAV MARKETING PVT. LTD.\",\"VF-2-I\",\"\",\"2156383\",\"M2020-39\",\"SN: Order: 2156383PO: M2020-39\",\"In Process\",\"07/06/2020 to 07/11/2020\",\"07/06/2020 to 07/11/2020\",\"WESTERN\"\\r\\n\"FO118\",\"Government Tool Room & Trainin\",\"MANAV MARKETING PVT. LTD.\",\"VF-2-I\",\"\",\"2156385\",\"M2020-35\",\"SN: Order: 2156385PO: M2020-35\",\"In Process\",\"07/06/2020 to 07/11/2020\",\"07/06/2020 to 07/11/2020\",\"WESTERN\"\\r\\n\"FO118\",\"Government Tool Room & Trainin\",\"MANAV MARKETING PVT. LTD.\",\"VF-2-I\",\"\",\"2156387\",\"M2020-40\",\"SN: Order: 2156387PO: M2020-40\",\"In Process\",\"07/06/2020 to 07/11/2020\",\"07/06/2020 to 07/11/2020\",\"WESTERN\"\\r\\n\"FO118\",\"Government Tool Room & Trainin\",\"MANAV MARKETING PVT. LTD.\",\"VF-2-I\",\"\",\"2156388\",\"M2020-41\",\"SN: Order: 2156388PO: M2020-41\",\"In Process\",\"07/06/2020 to 07/11/2020\",\"07/06/2020 to 07/11/2020\",\"WESTERN\"\\r\\n\"FO118\",\"MANAV MARKETING PVT. LTD\",\"MANAV MARKETING PVT. LTD.\",\"VF-2-I\",\"\",\"2162059\",\"M2020-42\",\"SN: Order: 2162059PO: M2020-42\",\"In Process\",\"04/13/2020 to 04/18/2020\",\"04/13/2020 to 04/18/2020\",\"WESTERN\"\\r\\n\"FO118\",\"MANAV MARKETING PVT. LTD\",\"MANAV MARKETING PVT. LTD.\",\"VF-2-I\",\"\",\"2162060\",\"M2020-43\",\"SN: Order: 2162060PO: M2020-43\",\"In Process\",\"04/13/2020 to 04/18/2020\",\"04/13/2020 to 04/18/2020\",\"WESTERN\"\\r\\n\"FO118\",\"MANAV MARKETING PVT. LTD\",\"MANAV MARKETING PVT. LTD.\",\"VF-2-I\",\"\",\"2162061\",\"M2020-44\",\"SN: Order: 2162061PO: M2020-44\",\"In Process\",\"04/13/2020 to 04/18/2020\",\"04/13/2020 to 04/18/2020\",\"WESTERN\"\\r\\n\"FO118\",\"ANJANA ENGINEERING WORKS\",\"ANJANA ENGINEERING WORKS\",\"UMC-750\",\"\",\"20192501\",\"J2020-15\",\"SN: Order: 20192501PO: J2020-15\",\"Order On Hold\",\"In Process\",\"On Hold\",\"WESTERN\"'}"
            ]
          },
          "metadata": {
            "tags": []
          },
          "execution_count": 5
        }
      ]
    },
    {
      "cell_type": "code",
      "metadata": {
        "id": "sOErUzzmbbH5",
        "colab_type": "code",
        "colab": {}
      },
      "source": [
        "df= pd.read_csv('OMR.csv')"
      ],
      "execution_count": 0,
      "outputs": []
    },
    {
      "cell_type": "code",
      "metadata": {
        "id": "1mTjaFkYcHYB",
        "colab_type": "code",
        "colab": {
          "base_uri": "https://localhost:8080/",
          "height": 481
        },
        "outputId": "6bd3f296-60c2-4ea0-eacc-b7eb0d9a6221"
      },
      "source": [
        "df.head()"
      ],
      "execution_count": 8,
      "outputs": [
        {
          "output_type": "execute_result",
          "data": {
            "text/html": [
              "<div>\n",
              "<style scoped>\n",
              "    .dataframe tbody tr th:only-of-type {\n",
              "        vertical-align: middle;\n",
              "    }\n",
              "\n",
              "    .dataframe tbody tr th {\n",
              "        vertical-align: top;\n",
              "    }\n",
              "\n",
              "    .dataframe thead th {\n",
              "        text-align: right;\n",
              "    }\n",
              "</style>\n",
              "<table border=\"1\" class=\"dataframe\">\n",
              "  <thead>\n",
              "    <tr style=\"text-align: right;\">\n",
              "      <th></th>\n",
              "      <th>Dealer</th>\n",
              "      <th>End Customer</th>\n",
              "      <th>Ship TO</th>\n",
              "      <th>Model</th>\n",
              "      <th>Serial No</th>\n",
              "      <th>Order</th>\n",
              "      <th>PO Number</th>\n",
              "      <th>Order Info</th>\n",
              "      <th>Status</th>\n",
              "      <th>Est. Completion Date</th>\n",
              "      <th>Completion Date</th>\n",
              "      <th>Carrier</th>\n",
              "    </tr>\n",
              "  </thead>\n",
              "  <tbody>\n",
              "    <tr>\n",
              "      <th>0</th>\n",
              "      <td>FO118</td>\n",
              "      <td>ACWA AUTOMATICS LLP</td>\n",
              "      <td>ACWA AUTOMATICS LLP</td>\n",
              "      <td>VF-2-I</td>\n",
              "      <td>1170415.0</td>\n",
              "      <td>2122224</td>\n",
              "      <td>J2020-09</td>\n",
              "      <td>SN: 1170415Order: 2122224PO: J2020-09</td>\n",
              "      <td>Order has Shipped</td>\n",
              "      <td>02/10/2020 to 02/15/2020</td>\n",
              "      <td>Shipped - 02/28/2020</td>\n",
              "      <td>WESTERN</td>\n",
              "    </tr>\n",
              "    <tr>\n",
              "      <th>1</th>\n",
              "      <td>FO118</td>\n",
              "      <td>ANJANA ENGINEERING WORKS</td>\n",
              "      <td>ANJANA ENGINEERING WORKS</td>\n",
              "      <td>VF-4-I</td>\n",
              "      <td>1170489.0</td>\n",
              "      <td>2123392</td>\n",
              "      <td>J2020-13</td>\n",
              "      <td>SN: 1170489Order: 2123392PO: J2020-13</td>\n",
              "      <td>Order has Shipped</td>\n",
              "      <td>02/03/2020 to 02/08/2020</td>\n",
              "      <td>Shipped - 03/10/2020</td>\n",
              "      <td>WESTERN</td>\n",
              "    </tr>\n",
              "    <tr>\n",
              "      <th>2</th>\n",
              "      <td>FO118</td>\n",
              "      <td>ANJANA ENGINEERING WORKS</td>\n",
              "      <td>ANJANA ENGINEERING WORKS</td>\n",
              "      <td>HRT310</td>\n",
              "      <td>319841.0</td>\n",
              "      <td>2123392</td>\n",
              "      <td>J2020-13</td>\n",
              "      <td>SN: 319841Order: 2123392PO: J2020-13</td>\n",
              "      <td>Order has Shipped</td>\n",
              "      <td>11/18/2019 to 11/23/2019</td>\n",
              "      <td>Shipped - 03/10/2020</td>\n",
              "      <td>WESTERN</td>\n",
              "    </tr>\n",
              "    <tr>\n",
              "      <th>3</th>\n",
              "      <td>FO118</td>\n",
              "      <td>KAPSI ELECTRICAL POWER PRODUCT</td>\n",
              "      <td>KAPSI ELECTRICAL POWER PRODUCT</td>\n",
              "      <td>VF-4-I</td>\n",
              "      <td>1170747.0</td>\n",
              "      <td>2123395</td>\n",
              "      <td>J2020-14</td>\n",
              "      <td>SN: 1170747Order: 2123395PO: J2020-14</td>\n",
              "      <td>Order has Shipped</td>\n",
              "      <td>02/17/2020 to 02/22/2020</td>\n",
              "      <td>Shipped - 03/05/2020</td>\n",
              "      <td>WESTERN</td>\n",
              "    </tr>\n",
              "    <tr>\n",
              "      <th>4</th>\n",
              "      <td>FO118</td>\n",
              "      <td>VIOLIN TECHNOLOGIES PRIVATE LI</td>\n",
              "      <td>VIOLIN TECHNOLOGIES PRIVATE LI</td>\n",
              "      <td>VF-2-I</td>\n",
              "      <td>1170578.0</td>\n",
              "      <td>2125679</td>\n",
              "      <td>J2020-16</td>\n",
              "      <td>SN: 1170578Order: 2125679PO: J2020-16</td>\n",
              "      <td>Order has Shipped</td>\n",
              "      <td>02/10/2020 to 02/15/2020</td>\n",
              "      <td>Shipped - 02/28/2020</td>\n",
              "      <td>WESTERN</td>\n",
              "    </tr>\n",
              "  </tbody>\n",
              "</table>\n",
              "</div>"
            ],
            "text/plain": [
              "  Dealer                    End Customer  ...       Completion Date  Carrier\n",
              "0  FO118             ACWA AUTOMATICS LLP  ...  Shipped - 02/28/2020  WESTERN\n",
              "1  FO118        ANJANA ENGINEERING WORKS  ...  Shipped - 03/10/2020  WESTERN\n",
              "2  FO118        ANJANA ENGINEERING WORKS  ...  Shipped - 03/10/2020  WESTERN\n",
              "3  FO118  KAPSI ELECTRICAL POWER PRODUCT  ...  Shipped - 03/05/2020  WESTERN\n",
              "4  FO118  VIOLIN TECHNOLOGIES PRIVATE LI  ...  Shipped - 02/28/2020  WESTERN\n",
              "\n",
              "[5 rows x 12 columns]"
            ]
          },
          "metadata": {
            "tags": []
          },
          "execution_count": 8
        }
      ]
    },
    {
      "cell_type": "code",
      "metadata": {
        "id": "j0iQIey7cJNH",
        "colab_type": "code",
        "colab": {}
      },
      "source": [
        ""
      ],
      "execution_count": 0,
      "outputs": []
    }
  ]
}