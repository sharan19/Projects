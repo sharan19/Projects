{
 "cells": [
  {
   "cell_type": "code",
   "execution_count": null,
   "metadata": {},
   "outputs": [],
   "source": [
    "#Project 2- Statistical Learning"
   ]
  },
  {
   "cell_type": "code",
   "execution_count": 17,
   "metadata": {},
   "outputs": [],
   "source": [
    "#Importing Required Libraries\n",
    "\n",
    "import numpy as np\n",
    "from scipy.stats import ttest_1samp, ttest_ind, mannwhitneyu, levene, shapiro\n",
    "from statsmodels.stats.power import ttest_power\n",
    "import pandas as pd\n"
   ]
  },
  {
   "cell_type": "code",
   "execution_count": 18,
   "metadata": {},
   "outputs": [],
   "source": [
    "#Creating a dataframe\n",
    "\n",
    "d={'Sales Persons':[1,2,3,4,5,6,7,8,9,10,11,12,13,14,15,16,17,18,19,20,21,22,23,24,25,26,27,28,29,30],\n",
    "    'Old Scheme(in thousands)':[57,103,59,75,84,73,35,110,44,82,67,64,78,53,41,39,80,87,73,65,28,62,49,84,63,77,67,101,91,50],\n",
    "    'New Scheme(in thousands)':[62,122,54,82,84,86,32,104,38,107,84,85,99,39,34,58,73,53,66,78,41,71,38,95,81,58,75,94,100,68]\n",
    "   }\n",
    "df=pd.DataFrame(d)"
   ]
  },
  {
   "cell_type": "code",
   "execution_count": 19,
   "metadata": {},
   "outputs": [
    {
     "name": "stdout",
     "output_type": "stream",
     "text": [
      "A1)The mean of the data are following:\n"
     ]
    },
    {
     "data": {
      "text/plain": [
       "Sales Persons               15.500000\n",
       "Old Scheme(in thousands)    68.033333\n",
       "New Scheme(in thousands)    72.033333\n",
       "dtype: float64"
      ]
     },
     "execution_count": 19,
     "metadata": {},
     "output_type": "execute_result"
    }
   ],
   "source": [
    "# Mean of the dataframe\n",
    "print(\"A1)The mean of the data are following:\")\n",
    "df.mean()"
   ]
  },
  {
   "cell_type": "code",
   "execution_count": 29,
   "metadata": {},
   "outputs": [],
   "source": [
    "# Seperating the data into 2 groups based on Old scheme and New scheme\n",
    "group1 = df['Old Scheme(in thousands)']\n",
    "group2 = df['New Scheme(in thousands)']"
   ]
  },
  {
   "cell_type": "code",
   "execution_count": 59,
   "metadata": {},
   "outputs": [
    {
     "name": "stdout",
     "output_type": "stream",
     "text": [
      "0.13057553961337662\n"
     ]
    }
   ],
   "source": [
    "# two-sample t-test\n",
    "# null hypothesis: the two groups have the same mean\n",
    "# this test assumes the two groups have the same variance...\n",
    "# (can be checked with tests for equal variance - Levene)\n",
    "\n",
    "t_statistic, p_value = ttest_1samp(group1 - group2,0)\n",
    "\n",
    "print( p_value)"
   ]
  },
  {
   "cell_type": "code",
   "execution_count": 54,
   "metadata": {},
   "outputs": [
    {
     "name": "stdout",
     "output_type": "stream",
     "text": [
      "A2) two-sample t-test p-value= 0.13057553961337662\n"
     ]
    }
   ],
   "source": [
    "# p_value < 0.05 => alternative hypothesis:\n",
    "# they don't have the same mean at the 5% significance level\n",
    "print (\"A2) two-sample t-test p-value=\", p_value)"
   ]
  },
  {
   "cell_type": "code",
   "execution_count": 55,
   "metadata": {},
   "outputs": [
    {
     "name": "stdout",
     "output_type": "stream",
     "text": [
      "two-sample wilcoxon-test p-value= 0.24815395764270332\n"
     ]
    }
   ],
   "source": [
    "# two-sample wilcoxon test\n",
    "# a.k.a Mann Whitney U - Used when samples are not normally distributed\n",
    "u, p_value = mannwhitneyu(group1, group2)\n",
    "print (\"two-sample wilcoxon-test p-value=\", p_value)"
   ]
  },
  {
   "cell_type": "markdown",
   "metadata": {},
   "source": [
    "    A3) it can be infered that there is difference in mean between the two values."
   ]
  },
  {
   "cell_type": "markdown",
   "metadata": {},
   "source": [
    "A4a) Probability of type one error is the probability of null hypothesis getting rejected even when it is true. Here the null hypothesis is the average difference of means of old scheme and new scheme is less than or equal to 5000. Type 1 error is rejecting the model when the mean difference is infact less or equal to 5000. we are considering 5% chance of error in this solution."
   ]
  },
  {
   "cell_type": "code",
   "execution_count": 56,
   "metadata": {},
   "outputs": [
    {
     "data": {
      "text/plain": [
       "0.12909555513169643"
      ]
     },
     "execution_count": 56,
     "metadata": {},
     "output_type": "execute_result"
    }
   ],
   "source": [
    "# We have to study the probability of break even when the new scheme is introdced. the mean differnece should be less than or\n",
    "#equal to 5000\n",
    "# Calculating Power of Test\n",
    "# Compute the difference in Means between 2 sample means and divide by pooled Standard Deviation \n",
    "# number of Observations/tuples\n",
    "# Set the alpha value to 0.05 and alternative values 'two-sided' , 'larger' , 'smaller'\n",
    "(np.mean(group2) - np.mean(group1)) / np.sqrt(((30-1)*np.var(group2)+(30-1)*np.var(group1)) / 30+30-2)"
   ]
  },
  {
   "cell_type": "code",
   "execution_count": 57,
   "metadata": {},
   "outputs": [
    {
     "name": "stdout",
     "output_type": "stream",
     "text": [
      "A4c) Power of test: 0.1698663025719903\n"
     ]
    }
   ],
   "source": [
    "print(\"A4c) Power of test:\",ttest_power(0.129, nobs=30, alpha=0.05, alternative='larger'))"
   ]
  }
 ],
 "metadata": {
  "kernelspec": {
   "display_name": "Python 3",
   "language": "python",
   "name": "python3"
  },
  "language_info": {
   "codemirror_mode": {
    "name": "ipython",
    "version": 3
   },
   "file_extension": ".py",
   "mimetype": "text/x-python",
   "name": "python",
   "nbconvert_exporter": "python",
   "pygments_lexer": "ipython3",
   "version": "3.6.5"
  }
 },
 "nbformat": 4,
 "nbformat_minor": 2
}
