{
 "cells": [
  {
   "cell_type": "markdown",
   "metadata": {},
   "source": [
    "### The data set has information about features of silhouette extracted from the images of different cars\n",
    "\n",
    "Four \"Corgie\" model vehicles were used for the experiment: a double decker bus, Cheverolet van, Saab 9000 and an Opel Manta 400 cars. This particular combination of vehicles was chosen with the expectation that the bus, van and either one of the cars would be readily distinguishable, but it would be more difficult to distinguish between the cars.\n",
    "\n"
   ]
  },
  {
   "cell_type": "code",
   "execution_count": 1,
   "metadata": {},
   "outputs": [],
   "source": [
    "import pandas as pd\n",
    "import numpy as np\n",
    "import matplotlib.pyplot as plt\n",
    "import seaborn as sns\n",
    "#import scipy\n",
    "from scipy.stats import zscore\n",
    "from sklearn.model_selection  import train_test_split\n",
    "from sklearn.cluster import KMeans"
   ]
  },
  {
   "cell_type": "code",
   "execution_count": 2,
   "metadata": {},
   "outputs": [],
   "source": [
    "%matplotlib inline"
   ]
  },
  {
   "cell_type": "markdown",
   "metadata": {},
   "source": [
    "### 1. Read the dataset using function .dropna() - to avoid dealing with NAs as of now"
   ]
  },
  {
   "cell_type": "code",
   "execution_count": 3,
   "metadata": {},
   "outputs": [
    {
     "data": {
      "text/html": [
       "<div>\n",
       "<style scoped>\n",
       "    .dataframe tbody tr th:only-of-type {\n",
       "        vertical-align: middle;\n",
       "    }\n",
       "\n",
       "    .dataframe tbody tr th {\n",
       "        vertical-align: top;\n",
       "    }\n",
       "\n",
       "    .dataframe thead th {\n",
       "        text-align: right;\n",
       "    }\n",
       "</style>\n",
       "<table border=\"1\" class=\"dataframe\">\n",
       "  <thead>\n",
       "    <tr style=\"text-align: right;\">\n",
       "      <th></th>\n",
       "      <th>compactness</th>\n",
       "      <th>circularity</th>\n",
       "      <th>distance_circularity</th>\n",
       "      <th>radius_ratio</th>\n",
       "      <th>pr.axis_aspect_ratio</th>\n",
       "      <th>max.length_aspect_ratio</th>\n",
       "      <th>scatter_ratio</th>\n",
       "      <th>elongatedness</th>\n",
       "      <th>pr.axis_rectangularity</th>\n",
       "      <th>max.length_rectangularity</th>\n",
       "      <th>scaled_variance</th>\n",
       "      <th>scaled_variance.1</th>\n",
       "      <th>scaled_radius_of_gyration</th>\n",
       "      <th>scaled_radius_of_gyration.1</th>\n",
       "      <th>skewness_about</th>\n",
       "      <th>skewness_about.1</th>\n",
       "      <th>skewness_about.2</th>\n",
       "      <th>hollows_ratio</th>\n",
       "      <th>class</th>\n",
       "    </tr>\n",
       "  </thead>\n",
       "  <tbody>\n",
       "    <tr>\n",
       "      <th>319</th>\n",
       "      <td>102</td>\n",
       "      <td>51.0</td>\n",
       "      <td>NaN</td>\n",
       "      <td>194.0</td>\n",
       "      <td>60.0</td>\n",
       "      <td>6</td>\n",
       "      <td>220.0</td>\n",
       "      <td>30.0</td>\n",
       "      <td>25.0</td>\n",
       "      <td>162</td>\n",
       "      <td>247.0</td>\n",
       "      <td>731.0</td>\n",
       "      <td>209.0</td>\n",
       "      <td>80.0</td>\n",
       "      <td>7.0</td>\n",
       "      <td>7.0</td>\n",
       "      <td>188.0</td>\n",
       "      <td>186</td>\n",
       "      <td>bus</td>\n",
       "    </tr>\n",
       "    <tr>\n",
       "      <th>20</th>\n",
       "      <td>84</td>\n",
       "      <td>47.0</td>\n",
       "      <td>75.0</td>\n",
       "      <td>153.0</td>\n",
       "      <td>64.0</td>\n",
       "      <td>6</td>\n",
       "      <td>154.0</td>\n",
       "      <td>43.0</td>\n",
       "      <td>19.0</td>\n",
       "      <td>145</td>\n",
       "      <td>175.0</td>\n",
       "      <td>354.0</td>\n",
       "      <td>184.0</td>\n",
       "      <td>75.0</td>\n",
       "      <td>0.0</td>\n",
       "      <td>3.0</td>\n",
       "      <td>185.0</td>\n",
       "      <td>192</td>\n",
       "      <td>bus</td>\n",
       "    </tr>\n",
       "    <tr>\n",
       "      <th>662</th>\n",
       "      <td>87</td>\n",
       "      <td>41.0</td>\n",
       "      <td>66.0</td>\n",
       "      <td>140.0</td>\n",
       "      <td>58.0</td>\n",
       "      <td>6</td>\n",
       "      <td>148.0</td>\n",
       "      <td>46.0</td>\n",
       "      <td>19.0</td>\n",
       "      <td>136</td>\n",
       "      <td>164.0</td>\n",
       "      <td>318.0</td>\n",
       "      <td>178.0</td>\n",
       "      <td>79.0</td>\n",
       "      <td>19.0</td>\n",
       "      <td>2.0</td>\n",
       "      <td>181.0</td>\n",
       "      <td>185</td>\n",
       "      <td>car</td>\n",
       "    </tr>\n",
       "    <tr>\n",
       "      <th>585</th>\n",
       "      <td>85</td>\n",
       "      <td>35.0</td>\n",
       "      <td>64.0</td>\n",
       "      <td>129.0</td>\n",
       "      <td>57.0</td>\n",
       "      <td>6</td>\n",
       "      <td>116.0</td>\n",
       "      <td>57.0</td>\n",
       "      <td>17.0</td>\n",
       "      <td>125</td>\n",
       "      <td>138.0</td>\n",
       "      <td>200.0</td>\n",
       "      <td>123.0</td>\n",
       "      <td>65.0</td>\n",
       "      <td>1.0</td>\n",
       "      <td>23.0</td>\n",
       "      <td>196.0</td>\n",
       "      <td>203</td>\n",
       "      <td>van</td>\n",
       "    </tr>\n",
       "    <tr>\n",
       "      <th>433</th>\n",
       "      <td>85</td>\n",
       "      <td>42.0</td>\n",
       "      <td>70.0</td>\n",
       "      <td>130.0</td>\n",
       "      <td>56.0</td>\n",
       "      <td>7</td>\n",
       "      <td>150.0</td>\n",
       "      <td>45.0</td>\n",
       "      <td>19.0</td>\n",
       "      <td>145</td>\n",
       "      <td>177.0</td>\n",
       "      <td>328.0</td>\n",
       "      <td>172.0</td>\n",
       "      <td>82.0</td>\n",
       "      <td>10.0</td>\n",
       "      <td>14.0</td>\n",
       "      <td>181.0</td>\n",
       "      <td>185</td>\n",
       "      <td>bus</td>\n",
       "    </tr>\n",
       "    <tr>\n",
       "      <th>281</th>\n",
       "      <td>82</td>\n",
       "      <td>43.0</td>\n",
       "      <td>73.0</td>\n",
       "      <td>154.0</td>\n",
       "      <td>65.0</td>\n",
       "      <td>7</td>\n",
       "      <td>151.0</td>\n",
       "      <td>44.0</td>\n",
       "      <td>19.0</td>\n",
       "      <td>143</td>\n",
       "      <td>178.0</td>\n",
       "      <td>341.0</td>\n",
       "      <td>160.0</td>\n",
       "      <td>76.0</td>\n",
       "      <td>5.0</td>\n",
       "      <td>11.0</td>\n",
       "      <td>185.0</td>\n",
       "      <td>189</td>\n",
       "      <td>bus</td>\n",
       "    </tr>\n",
       "    <tr>\n",
       "      <th>557</th>\n",
       "      <td>86</td>\n",
       "      <td>40.0</td>\n",
       "      <td>66.0</td>\n",
       "      <td>138.0</td>\n",
       "      <td>59.0</td>\n",
       "      <td>4</td>\n",
       "      <td>137.0</td>\n",
       "      <td>49.0</td>\n",
       "      <td>18.0</td>\n",
       "      <td>133</td>\n",
       "      <td>162.0</td>\n",
       "      <td>279.0</td>\n",
       "      <td>151.0</td>\n",
       "      <td>74.0</td>\n",
       "      <td>6.0</td>\n",
       "      <td>14.0</td>\n",
       "      <td>186.0</td>\n",
       "      <td>190</td>\n",
       "      <td>car</td>\n",
       "    </tr>\n",
       "    <tr>\n",
       "      <th>55</th>\n",
       "      <td>94</td>\n",
       "      <td>36.0</td>\n",
       "      <td>66.0</td>\n",
       "      <td>151.0</td>\n",
       "      <td>61.0</td>\n",
       "      <td>8</td>\n",
       "      <td>133.0</td>\n",
       "      <td>50.0</td>\n",
       "      <td>18.0</td>\n",
       "      <td>135</td>\n",
       "      <td>154.0</td>\n",
       "      <td>265.0</td>\n",
       "      <td>119.0</td>\n",
       "      <td>62.0</td>\n",
       "      <td>9.0</td>\n",
       "      <td>3.0</td>\n",
       "      <td>201.0</td>\n",
       "      <td>208</td>\n",
       "      <td>van</td>\n",
       "    </tr>\n",
       "    <tr>\n",
       "      <th>655</th>\n",
       "      <td>86</td>\n",
       "      <td>35.0</td>\n",
       "      <td>44.0</td>\n",
       "      <td>110.0</td>\n",
       "      <td>54.0</td>\n",
       "      <td>2</td>\n",
       "      <td>119.0</td>\n",
       "      <td>57.0</td>\n",
       "      <td>17.0</td>\n",
       "      <td>121</td>\n",
       "      <td>139.0</td>\n",
       "      <td>208.0</td>\n",
       "      <td>137.0</td>\n",
       "      <td>90.0</td>\n",
       "      <td>6.0</td>\n",
       "      <td>1.0</td>\n",
       "      <td>180.0</td>\n",
       "      <td>183</td>\n",
       "      <td>van</td>\n",
       "    </tr>\n",
       "    <tr>\n",
       "      <th>28</th>\n",
       "      <td>102</td>\n",
       "      <td>45.0</td>\n",
       "      <td>85.0</td>\n",
       "      <td>193.0</td>\n",
       "      <td>64.0</td>\n",
       "      <td>6</td>\n",
       "      <td>192.0</td>\n",
       "      <td>33.0</td>\n",
       "      <td>22.0</td>\n",
       "      <td>146</td>\n",
       "      <td>217.0</td>\n",
       "      <td>570.0</td>\n",
       "      <td>163.0</td>\n",
       "      <td>76.0</td>\n",
       "      <td>6.0</td>\n",
       "      <td>7.0</td>\n",
       "      <td>195.0</td>\n",
       "      <td>193</td>\n",
       "      <td>bus</td>\n",
       "    </tr>\n",
       "  </tbody>\n",
       "</table>\n",
       "</div>"
      ],
      "text/plain": [
       "     compactness  circularity  distance_circularity  radius_ratio  \\\n",
       "319          102         51.0                   NaN         194.0   \n",
       "20            84         47.0                  75.0         153.0   \n",
       "662           87         41.0                  66.0         140.0   \n",
       "585           85         35.0                  64.0         129.0   \n",
       "433           85         42.0                  70.0         130.0   \n",
       "281           82         43.0                  73.0         154.0   \n",
       "557           86         40.0                  66.0         138.0   \n",
       "55            94         36.0                  66.0         151.0   \n",
       "655           86         35.0                  44.0         110.0   \n",
       "28           102         45.0                  85.0         193.0   \n",
       "\n",
       "     pr.axis_aspect_ratio  max.length_aspect_ratio  scatter_ratio  \\\n",
       "319                  60.0                        6          220.0   \n",
       "20                   64.0                        6          154.0   \n",
       "662                  58.0                        6          148.0   \n",
       "585                  57.0                        6          116.0   \n",
       "433                  56.0                        7          150.0   \n",
       "281                  65.0                        7          151.0   \n",
       "557                  59.0                        4          137.0   \n",
       "55                   61.0                        8          133.0   \n",
       "655                  54.0                        2          119.0   \n",
       "28                   64.0                        6          192.0   \n",
       "\n",
       "     elongatedness  pr.axis_rectangularity  max.length_rectangularity  \\\n",
       "319           30.0                    25.0                        162   \n",
       "20            43.0                    19.0                        145   \n",
       "662           46.0                    19.0                        136   \n",
       "585           57.0                    17.0                        125   \n",
       "433           45.0                    19.0                        145   \n",
       "281           44.0                    19.0                        143   \n",
       "557           49.0                    18.0                        133   \n",
       "55            50.0                    18.0                        135   \n",
       "655           57.0                    17.0                        121   \n",
       "28            33.0                    22.0                        146   \n",
       "\n",
       "     scaled_variance  scaled_variance.1  scaled_radius_of_gyration  \\\n",
       "319            247.0              731.0                      209.0   \n",
       "20             175.0              354.0                      184.0   \n",
       "662            164.0              318.0                      178.0   \n",
       "585            138.0              200.0                      123.0   \n",
       "433            177.0              328.0                      172.0   \n",
       "281            178.0              341.0                      160.0   \n",
       "557            162.0              279.0                      151.0   \n",
       "55             154.0              265.0                      119.0   \n",
       "655            139.0              208.0                      137.0   \n",
       "28             217.0              570.0                      163.0   \n",
       "\n",
       "     scaled_radius_of_gyration.1  skewness_about  skewness_about.1  \\\n",
       "319                         80.0             7.0               7.0   \n",
       "20                          75.0             0.0               3.0   \n",
       "662                         79.0            19.0               2.0   \n",
       "585                         65.0             1.0              23.0   \n",
       "433                         82.0            10.0              14.0   \n",
       "281                         76.0             5.0              11.0   \n",
       "557                         74.0             6.0              14.0   \n",
       "55                          62.0             9.0               3.0   \n",
       "655                         90.0             6.0               1.0   \n",
       "28                          76.0             6.0               7.0   \n",
       "\n",
       "     skewness_about.2  hollows_ratio class  \n",
       "319             188.0            186   bus  \n",
       "20              185.0            192   bus  \n",
       "662             181.0            185   car  \n",
       "585             196.0            203   van  \n",
       "433             181.0            185   bus  \n",
       "281             185.0            189   bus  \n",
       "557             186.0            190   car  \n",
       "55              201.0            208   van  \n",
       "655             180.0            183   van  \n",
       "28              195.0            193   bus  "
      ]
     },
     "execution_count": 3,
     "metadata": {},
     "output_type": "execute_result"
    }
   ],
   "source": [
    "dt=pd.read_csv(\"vehicle.csv\")\n",
    "\n",
    "dt.sample(10)"
   ]
  },
  {
   "cell_type": "code",
   "execution_count": 4,
   "metadata": {},
   "outputs": [],
   "source": [
    "dt.dropna(inplace=True)"
   ]
  },
  {
   "cell_type": "markdown",
   "metadata": {},
   "source": [
    "### 2. Print/ Plot the dependent (categorical variable) - Class column"
   ]
  },
  {
   "cell_type": "markdown",
   "metadata": {},
   "source": [
    "Since the variable is categorical, you can use value_counts function"
   ]
  },
  {
   "cell_type": "code",
   "execution_count": 5,
   "metadata": {},
   "outputs": [
    {
     "data": {
      "text/plain": [
       "car    413\n",
       "bus    205\n",
       "van    195\n",
       "Name: class, dtype: int64"
      ]
     },
     "execution_count": 5,
     "metadata": {},
     "output_type": "execute_result"
    }
   ],
   "source": [
    "hy=dt['class'].value_counts()\n",
    "ex=dt['class'].unique()\n",
    "hy"
   ]
  },
  {
   "cell_type": "code",
   "execution_count": 6,
   "metadata": {},
   "outputs": [
    {
     "data": {
      "image/png": "[encoded data removed]",
      "text/plain": [
       "<Figure size 432x288 with 1 Axes>"
      ]
     },
     "metadata": {},
     "output_type": "display_data"
    }
   ],
   "source": [
    "sns.countplot(x ='class',data=dt);"
   ]
  },
  {
   "cell_type": "code",
   "execution_count": 7,
   "metadata": {},
   "outputs": [
    {
     "data": {
      "text/plain": [
       "compactness                      int64\n",
       "circularity                    float64\n",
       "distance_circularity           float64\n",
       "radius_ratio                   float64\n",
       "pr.axis_aspect_ratio           float64\n",
       "max.length_aspect_ratio          int64\n",
       "scatter_ratio                  float64\n",
       "elongatedness                  float64\n",
       "pr.axis_rectangularity         float64\n",
       "max.length_rectangularity        int64\n",
       "scaled_variance                float64\n",
       "scaled_variance.1              float64\n",
       "scaled_radius_of_gyration      float64\n",
       "scaled_radius_of_gyration.1    float64\n",
       "skewness_about                 float64\n",
       "skewness_about.1               float64\n",
       "skewness_about.2               float64\n",
       "hollows_ratio                    int64\n",
       "dtype: object"
      ]
     },
     "execution_count": 7,
     "metadata": {},
     "output_type": "execute_result"
    }
   ],
   "source": [
    "dt=dt.drop(['class'],axis=1)\n",
    "dt = dt.apply(pd.to_numeric, errors='ignore')\n",
    "dt.dtypes"
   ]
  },
  {
   "cell_type": "markdown",
   "metadata": {},
   "source": [
    "### Check for any missing values in the data "
   ]
  },
  {
   "cell_type": "code",
   "execution_count": 8,
   "metadata": {},
   "outputs": [
    {
     "data": {
      "text/plain": [
       "False"
      ]
     },
     "execution_count": 8,
     "metadata": {},
     "output_type": "execute_result"
    }
   ],
   "source": [
    "dt.isnull().values.any()"
   ]
  },
  {
   "cell_type": "markdown",
   "metadata": {},
   "source": [
    "### 3. Standardize the data "
   ]
  },
  {
   "cell_type": "code",
   "execution_count": 9,
   "metadata": {},
   "outputs": [],
   "source": [
    "dt_z=zscore(dt)"
   ]
  },
  {
   "cell_type": "markdown",
   "metadata": {},
   "source": [
    "Since the dimensions of the data are not really known to us, it would be wise to standardize the data using z scores before we go for any clustering methods.\n",
    "You can use zscore function to do this"
   ]
  },
  {
   "cell_type": "code",
   "execution_count": null,
   "metadata": {},
   "outputs": [],
   "source": []
  },
  {
   "cell_type": "code",
   "execution_count": null,
   "metadata": {},
   "outputs": [],
   "source": []
  },
  {
   "cell_type": "markdown",
   "metadata": {},
   "source": [
    "### K - Means Clustering"
   ]
  },
  {
   "cell_type": "markdown",
   "metadata": {},
   "source": [
    "### 4. Assign a dummy array called distortion"
   ]
  },
  {
   "cell_type": "code",
   "execution_count": 10,
   "metadata": {},
   "outputs": [],
   "source": [
    "distortion=[]"
   ]
  },
  {
   "cell_type": "markdown",
   "metadata": {},
   "source": [
    "You can later use this array to plot the elbow plot"
   ]
  },
  {
   "cell_type": "code",
   "execution_count": null,
   "metadata": {},
   "outputs": [],
   "source": []
  },
  {
   "cell_type": "markdown",
   "metadata": {},
   "source": [
    "### 5. Calculating distortion - C distance"
   ]
  },
  {
   "cell_type": "code",
   "execution_count": 11,
   "metadata": {},
   "outputs": [],
   "source": [
    "from scipy.spatial.distance import cdist\n",
    "clusters=range(1,10)"
   ]
  },
  {
   "cell_type": "markdown",
   "metadata": {},
   "source": [
    "Iterating values of k from 1 to 10 fit K means model\n",
    "Using c distance - Get the measure for Sum of squares error."
   ]
  },
  {
   "cell_type": "code",
   "execution_count": 12,
   "metadata": {},
   "outputs": [],
   "source": [
    "for k in clusters:\n",
    "    model=KMeans(n_clusters=k)\n",
    "    model.fit(dt)\n",
    "    #print(k)\n",
    "    #print(model.cluster_centers_)\n",
    "    prediction=model.predict(dt)\n",
    "    distortion.append(sum(np.min(cdist(dt, model.cluster_centers_, 'euclidean'), axis=1)) / dt.shape[0])\n",
    "   # print(meanDistortions)"
   ]
  },
  {
   "cell_type": "code",
   "execution_count": null,
   "metadata": {},
   "outputs": [],
   "source": []
  },
  {
   "cell_type": "markdown",
   "metadata": {},
   "source": [
    "### 6. Plotting Elbow/ Scree Plot"
   ]
  },
  {
   "cell_type": "code",
   "execution_count": 13,
   "metadata": {},
   "outputs": [
    {
     "data": {
      "text/plain": [
       "Text(0.5,1,'Selecting k with the Elbow Method')"
      ]
     },
     "execution_count": 13,
     "metadata": {},
     "output_type": "execute_result"
    },
    {
     "data": {
      "image/png": "[encoded data removed]",
      "text/plain": [
       "<Figure size 432x288 with 1 Axes>"
      ]
     },
     "metadata": {},
     "output_type": "display_data"
    }
   ],
   "source": [
    "plt.plot(clusters, distortion, 'bx-')\n",
    "plt.xlabel('k')\n",
    "plt.ylabel('Average distortion')\n",
    "plt.title('Selecting k with the Elbow Method')"
   ]
  },
  {
   "cell_type": "markdown",
   "metadata": {},
   "source": [
    "Use Matplotlib to plot the scree plot - Note: Scree plot plots distortion vs the no of clusters"
   ]
  },
  {
   "cell_type": "code",
   "execution_count": null,
   "metadata": {},
   "outputs": [],
   "source": []
  },
  {
   "cell_type": "markdown",
   "metadata": {},
   "source": [
    "### Find out the optimal value of K"
   ]
  },
  {
   "cell_type": "code",
   "execution_count": 14,
   "metadata": {},
   "outputs": [],
   "source": [
    "## The optimal value for K from above Elbow chart is 2 since the curve takes a steep change there"
   ]
  },
  {
   "cell_type": "code",
   "execution_count": 15,
   "metadata": {},
   "outputs": [],
   "source": [
    "final_model=KMeans(2)\n",
    "final_model.fit(dt)\n",
    "prediction=final_model.predict(dt)"
   ]
  },
  {
   "cell_type": "markdown",
   "metadata": {},
   "source": [
    "### Using optimal value of K - Cluster the data. \n",
    "Note: Since the data has more than 2 dimension we cannot visualize the data. As an alternative, we can observe the centroids and note how they are distributed across different dimensions"
   ]
  },
  {
   "cell_type": "code",
   "execution_count": null,
   "metadata": {},
   "outputs": [],
   "source": []
  },
  {
   "cell_type": "markdown",
   "metadata": {},
   "source": [
    "You can use kmeans.cluster_centers_ function to pull the centroid information from the instance"
   ]
  },
  {
   "cell_type": "code",
   "execution_count": 16,
   "metadata": {},
   "outputs": [
    {
     "data": {
      "text/plain": [
       "array([[ 97.96031746,  46.5952381 ,  93.16666667, 198.28571429,\n",
       "         64.02380952,   8.5952381 , 187.23015873,  35.12698413,\n",
       "         21.88095238, 149.92063492, 207.4047619 , 529.33333333,\n",
       "        183.03968254,  68.26984127,   6.04761905,  13.57142857,\n",
       "        193.07936508, 200.08730159],\n",
       "       [104.41666667,  53.40555556, 102.88888889, 201.16111111,\n",
       "         61.82222222,   9.85555556, 219.15      ,  30.45555556,\n",
       "         24.56666667, 167.6       , 231.47777778, 712.17222222,\n",
       "        215.31111111,  72.92777778,   7.33888889,  16.2       ,\n",
       "        187.62222222, 196.06666667],\n",
       "       [ 87.82424242,  38.2969697 ,  63.86060606, 133.23636364,\n",
       "         57.27272727,   6.69090909, 130.26666667,  51.6969697 ,\n",
       "         17.78787879, 133.35151515, 151.73939394, 251.73333333,\n",
       "        140.88484848,  72.55151515,   6.36363636,  11.39393939,\n",
       "        188.42424242, 193.53939394],\n",
       "       [ 89.22222222,  42.75438596,  75.74561404, 158.77192982,\n",
       "         63.09356725,   8.85964912, 153.5380117 ,  43.52631579,\n",
       "         19.29824561, 143.78654971, 176.35964912, 350.8245614 ,\n",
       "        165.50292398,  73.57017544,   5.93859649,  11.1374269 ,\n",
       "        188.4502924 , 195.00292398]])"
      ]
     },
     "execution_count": 16,
     "metadata": {},
     "output_type": "execute_result"
    }
   ],
   "source": [
    "kmeans=KMeans(n_clusters=4,random_state=0).fit(dt)\n",
    "kmeans.cluster_centers_"
   ]
  },
  {
   "cell_type": "markdown",
   "metadata": {},
   "source": [
    "### 7. Store the centroids in a dataframe with column names from the original dataset given "
   ]
  },
  {
   "cell_type": "code",
   "execution_count": 17,
   "metadata": {},
   "outputs": [],
   "source": [
    "dt1=kmeans.cluster_centers_"
   ]
  },
  {
   "cell_type": "markdown",
   "metadata": {},
   "source": [
    "Hint: Use pd.Dataframe function "
   ]
  },
  {
   "cell_type": "code",
   "execution_count": 18,
   "metadata": {},
   "outputs": [],
   "source": [
    "s=[dt,dt1]"
   ]
  },
  {
   "cell_type": "code",
   "execution_count": 19,
   "metadata": {},
   "outputs": [
    {
     "data": {
      "text/html": [
       "<div>\n",
       "<style scoped>\n",
       "    .dataframe tbody tr th:only-of-type {\n",
       "        vertical-align: middle;\n",
       "    }\n",
       "\n",
       "    .dataframe tbody tr th {\n",
       "        vertical-align: top;\n",
       "    }\n",
       "\n",
       "    .dataframe thead th {\n",
       "        text-align: right;\n",
       "    }\n",
       "</style>\n",
       "<table border=\"1\" class=\"dataframe\">\n",
       "  <thead>\n",
       "    <tr style=\"text-align: right;\">\n",
       "      <th></th>\n",
       "      <th>compactness</th>\n",
       "      <th>circularity</th>\n",
       "      <th>distance_circularity</th>\n",
       "      <th>radius_ratio</th>\n",
       "      <th>pr.axis_aspect_ratio</th>\n",
       "      <th>max.length_aspect_ratio</th>\n",
       "      <th>scatter_ratio</th>\n",
       "      <th>elongatedness</th>\n",
       "      <th>pr.axis_rectangularity</th>\n",
       "      <th>max.length_rectangularity</th>\n",
       "      <th>scaled_variance</th>\n",
       "      <th>scaled_variance.1</th>\n",
       "      <th>scaled_radius_of_gyration</th>\n",
       "      <th>scaled_radius_of_gyration.1</th>\n",
       "      <th>skewness_about</th>\n",
       "      <th>skewness_about.1</th>\n",
       "      <th>skewness_about.2</th>\n",
       "      <th>hollows_ratio</th>\n",
       "    </tr>\n",
       "  </thead>\n",
       "  <tbody>\n",
       "    <tr>\n",
       "      <th>0</th>\n",
       "      <td>97.960317</td>\n",
       "      <td>46.595238</td>\n",
       "      <td>93.166667</td>\n",
       "      <td>198.285714</td>\n",
       "      <td>64.023810</td>\n",
       "      <td>8.595238</td>\n",
       "      <td>187.230159</td>\n",
       "      <td>35.126984</td>\n",
       "      <td>21.880952</td>\n",
       "      <td>149.920635</td>\n",
       "      <td>207.404762</td>\n",
       "      <td>529.333333</td>\n",
       "      <td>183.039683</td>\n",
       "      <td>68.269841</td>\n",
       "      <td>6.047619</td>\n",
       "      <td>13.571429</td>\n",
       "      <td>193.079365</td>\n",
       "      <td>200.087302</td>\n",
       "    </tr>\n",
       "    <tr>\n",
       "      <th>1</th>\n",
       "      <td>104.416667</td>\n",
       "      <td>53.405556</td>\n",
       "      <td>102.888889</td>\n",
       "      <td>201.161111</td>\n",
       "      <td>61.822222</td>\n",
       "      <td>9.855556</td>\n",
       "      <td>219.150000</td>\n",
       "      <td>30.455556</td>\n",
       "      <td>24.566667</td>\n",
       "      <td>167.600000</td>\n",
       "      <td>231.477778</td>\n",
       "      <td>712.172222</td>\n",
       "      <td>215.311111</td>\n",
       "      <td>72.927778</td>\n",
       "      <td>7.338889</td>\n",
       "      <td>16.200000</td>\n",
       "      <td>187.622222</td>\n",
       "      <td>196.066667</td>\n",
       "    </tr>\n",
       "    <tr>\n",
       "      <th>2</th>\n",
       "      <td>87.824242</td>\n",
       "      <td>38.296970</td>\n",
       "      <td>63.860606</td>\n",
       "      <td>133.236364</td>\n",
       "      <td>57.272727</td>\n",
       "      <td>6.690909</td>\n",
       "      <td>130.266667</td>\n",
       "      <td>51.696970</td>\n",
       "      <td>17.787879</td>\n",
       "      <td>133.351515</td>\n",
       "      <td>151.739394</td>\n",
       "      <td>251.733333</td>\n",
       "      <td>140.884848</td>\n",
       "      <td>72.551515</td>\n",
       "      <td>6.363636</td>\n",
       "      <td>11.393939</td>\n",
       "      <td>188.424242</td>\n",
       "      <td>193.539394</td>\n",
       "    </tr>\n",
       "    <tr>\n",
       "      <th>3</th>\n",
       "      <td>89.222222</td>\n",
       "      <td>42.754386</td>\n",
       "      <td>75.745614</td>\n",
       "      <td>158.771930</td>\n",
       "      <td>63.093567</td>\n",
       "      <td>8.859649</td>\n",
       "      <td>153.538012</td>\n",
       "      <td>43.526316</td>\n",
       "      <td>19.298246</td>\n",
       "      <td>143.786550</td>\n",
       "      <td>176.359649</td>\n",
       "      <td>350.824561</td>\n",
       "      <td>165.502924</td>\n",
       "      <td>73.570175</td>\n",
       "      <td>5.938596</td>\n",
       "      <td>11.137427</td>\n",
       "      <td>188.450292</td>\n",
       "      <td>195.002924</td>\n",
       "    </tr>\n",
       "  </tbody>\n",
       "</table>\n",
       "</div>"
      ],
      "text/plain": [
       "   compactness  circularity  distance_circularity  radius_ratio  \\\n",
       "0    97.960317    46.595238             93.166667    198.285714   \n",
       "1   104.416667    53.405556            102.888889    201.161111   \n",
       "2    87.824242    38.296970             63.860606    133.236364   \n",
       "3    89.222222    42.754386             75.745614    158.771930   \n",
       "\n",
       "   pr.axis_aspect_ratio  max.length_aspect_ratio  scatter_ratio  \\\n",
       "0             64.023810                 8.595238     187.230159   \n",
       "1             61.822222                 9.855556     219.150000   \n",
       "2             57.272727                 6.690909     130.266667   \n",
       "3             63.093567                 8.859649     153.538012   \n",
       "\n",
       "   elongatedness  pr.axis_rectangularity  max.length_rectangularity  \\\n",
       "0      35.126984               21.880952                 149.920635   \n",
       "1      30.455556               24.566667                 167.600000   \n",
       "2      51.696970               17.787879                 133.351515   \n",
       "3      43.526316               19.298246                 143.786550   \n",
       "\n",
       "   scaled_variance  scaled_variance.1  scaled_radius_of_gyration  \\\n",
       "0       207.404762         529.333333                 183.039683   \n",
       "1       231.477778         712.172222                 215.311111   \n",
       "2       151.739394         251.733333                 140.884848   \n",
       "3       176.359649         350.824561                 165.502924   \n",
       "\n",
       "   scaled_radius_of_gyration.1  skewness_about  skewness_about.1  \\\n",
       "0                    68.269841        6.047619         13.571429   \n",
       "1                    72.927778        7.338889         16.200000   \n",
       "2                    72.551515        6.363636         11.393939   \n",
       "3                    73.570175        5.938596         11.137427   \n",
       "\n",
       "   skewness_about.2  hollows_ratio  \n",
       "0        193.079365     200.087302  \n",
       "1        187.622222     196.066667  \n",
       "2        188.424242     193.539394  \n",
       "3        188.450292     195.002924  "
      ]
     },
     "execution_count": 19,
     "metadata": {},
     "output_type": "execute_result"
    }
   ],
   "source": [
    "f=pd.DataFrame(dt1,columns=dt.columns)\n",
    "f"
   ]
  },
  {
   "cell_type": "markdown",
   "metadata": {},
   "source": [
    "### Use kmeans.labels_ function to print out the labels of the classes"
   ]
  },
  {
   "cell_type": "code",
   "execution_count": 20,
   "metadata": {},
   "outputs": [
    {
     "name": "stdout",
     "output_type": "stream",
     "text": [
      "[3 3 1 3 3 3 2 2 2 2 3 3 0 1 2 0 1 3 2 3 3 1 3 2 1 0 3 3 2 2 1 3 3 3 1 3 1\n",
      " 2 3 3 1 3 2 3 3 3 2 3 1 3 1 2 0 3 1 2 0 2 2 3 0 3 1 3 0 1 0 2 3 0 0 3 3 1\n",
      " 2 3 3 1 3 2 0 2 1 3 0 3 3 1 3 3 0 3 3 3 2 2 0 0 3 3 0 3 3 3 2 3 3 0 1 0 2\n",
      " 3 3 2 3 3 3 3 3 0 0 3 0 2 1 3 3 2 2 3 3 1 3 3 1 3 3 3 2 0 0 3 1 3 1 3 2 3\n",
      " 2 0 3 2 1 1 3 1 3 2 1 1 3 1 3 3 0 3 2 1 2 3 2 0 0 3 3 1 3 0 3 1 3 3 1 3 3\n",
      " 3 3 3 1 1 2 3 3 3 1 0 2 3 1 2 3 1 3 2 1 3 3 2 3 1 2 1 3 2 2 3 1 2 3 3 1 3\n",
      " 3 3 3 1 3 2 3 3 1 2 1 3 3 3 1 3 3 0 1 2 0 2 2 0 3 3 2 2 3 0 3 1 3 3 2 1 3\n",
      " 0 3 3 1 3 3 0 2 2 3 3 2 1 3 0 2 0 0 1 3 3 2 3 3 1 1 0 0 3 3 0 3 2 2 0 2 1\n",
      " 1 3 0 3 3 0 3 3 3 0 1 3 1 1 3 1 3 3 3 2 2 1 1 1 3 3 2 0 3 3 3 0 0 3 1 3 0\n",
      " 1 0 3 3 3 0 3 2 3 3 0 3 3 2 1 1 2 2 1 2 1 3 1 2 3 0 3 3 1 3 2 3 3 0 3 3 3\n",
      " 2 1 3 1 2 0 3 2 3 3 3 3 2 3 2 3 1 3 3 3 2 1 2 3 0 2 1 3 1 2 1 1 3 3 1 2 2\n",
      " 3 0 0 0 3 2 0 1 3 0 1 1 3 3 3 3 3 0 3 2 3 1 0 2 0 3 3 0 3 3 1 2 2 1 1 1 3\n",
      " 1 1 3 0 3 1 1 3 2 3 3 1 3 3 1 1 3 3 1 1 3 3 2 1 1 1 2 3 0 1 1 3 3 1 3 3 1\n",
      " 3 2 2 3 1 3 2 0 2 3 1 3 0 1 3 3 0 1 1 2 2 3 1 2 0 1 3 2 3 3 3 3 2 3 3 1 2\n",
      " 2 0 3 0 0 1 2 3 1 1 3 1 3 3 0 1 3 3 2 1 3 3 3 1 1 1 0 3 2 3 2 1 1 1 2 1 2\n",
      " 3 1 3 2 3 3 2 0 0 2 0 2 3 2 1 3 0 1 2 2 2 3 1 3 2 3 2 2 2 2 2 1 1 3 0 1 2\n",
      " 1 3 3 0 2 2 1 3 0 2 2 3 3 0 1 0 3 0 0 3 3 3 3 1 3 1 2 3 0 0 2 3 3 2 0 2 0\n",
      " 3 3 2 3 0 1 3 3 0 0 0 3 3 1 3 0 3 3 3 3 3 1 3 3 2 1 2 0 3 3 0 3 0 2 3 3 3\n",
      " 3 1 1 0 2 1 1 3 2 3 0 1 0 0 1 3 1 0 3 1 1 3 1 3 0 3 2 0 3 2 1 1 1 3 1 2 3\n",
      " 1 1 1 3 1 3 2 0 3 3 2 3 3 0 0 2 3 3 2 2 0 3 3 3 0 0 2 1 1 3 3 3 0 2 3 0 0\n",
      " 3 2 0 0 1 1 2 0 2 0 1 2 3 1 2 1 3 3 2 1 0 3 2 2 1 1 3 3 2 3 0 0 3 3 1 3 2\n",
      " 1 2 3 3 3 3 3 1 0 0 2 1 3 0 1 3 0 1 2 3 3 3 1 3 2 1 2 3 3 2 2 3 3 1 2 2]\n"
     ]
    }
   ],
   "source": [
    "print(kmeans.labels_)"
   ]
  },
  {
   "cell_type": "code",
   "execution_count": null,
   "metadata": {},
   "outputs": [],
   "source": []
  },
  {
   "cell_type": "markdown",
   "metadata": {},
   "source": [
    "## Hierarchical Clustering "
   ]
  },
  {
   "cell_type": "markdown",
   "metadata": {},
   "source": [
    "### 8. Variable creation"
   ]
  },
  {
   "cell_type": "markdown",
   "metadata": {},
   "source": [
    "For Hierarchical clustering, we will create datasets using multivariate normal distribution to visually observe how the clusters are formed at the end"
   ]
  },
  {
   "cell_type": "code",
   "execution_count": null,
   "metadata": {},
   "outputs": [],
   "source": []
  },
  {
   "cell_type": "code",
   "execution_count": 21,
   "metadata": {},
   "outputs": [],
   "source": [
    "a = np.random.multivariate_normal([10, 0], [[3, 1], [1, 4]], size=[100,])\n",
    "b = np.random.multivariate_normal([0, 20], [[3, 1], [1, 4]], size=[50,])\n",
    "c = np.random.multivariate_normal([10, 20], [[3, 1], [1, 4]], size=[100,])"
   ]
  },
  {
   "cell_type": "code",
   "execution_count": 22,
   "metadata": {},
   "outputs": [
    {
     "data": {
      "text/plain": [
       "array([[10.43356095, 22.94598273],\n",
       "       [ 8.43028104, 20.47602916],\n",
       "       [10.88200378, 22.43407863],\n",
       "       [ 9.31173735, 15.88936662],\n",
       "       [ 9.6834281 , 18.83931892],\n",
       "       [12.40663057, 20.91305376],\n",
       "       [ 5.89257682, 18.23364695],\n",
       "       [ 9.93561806, 20.15759791],\n",
       "       [11.44881866, 18.47986226],\n",
       "       [ 8.52993775, 24.30202477],\n",
       "       [10.38415533, 17.14489638],\n",
       "       [ 8.84565913, 20.27758165],\n",
       "       [ 8.0655235 , 19.29074403],\n",
       "       [ 8.30591928, 17.54689164],\n",
       "       [ 8.49191668, 21.42304218],\n",
       "       [13.20449437, 22.06516945],\n",
       "       [10.48603911, 22.51025979],\n",
       "       [ 9.69248336, 21.07656578],\n",
       "       [10.49361367, 21.94255555],\n",
       "       [ 8.78576264, 20.3878328 ],\n",
       "       [ 7.60559699, 18.41450678],\n",
       "       [11.67559531, 18.32483886],\n",
       "       [11.04761222, 23.55394165],\n",
       "       [ 7.98131315, 19.36784104],\n",
       "       [10.21943596, 18.49962106],\n",
       "       [11.89631029, 19.74322627],\n",
       "       [11.3774352 , 21.56238425],\n",
       "       [ 9.63650689, 23.76295938],\n",
       "       [ 9.63286508, 18.31906728],\n",
       "       [ 8.83928781, 19.45535538],\n",
       "       [10.44843528, 19.82535541],\n",
       "       [11.48918955, 24.2123197 ],\n",
       "       [11.46373295, 19.17663263],\n",
       "       [11.95090141, 20.14216081],\n",
       "       [ 9.67302932, 18.029153  ],\n",
       "       [ 6.84258714, 19.50571805],\n",
       "       [14.05237131, 21.6998844 ],\n",
       "       [ 8.85532804, 20.4105222 ],\n",
       "       [ 8.86033695, 17.76882517],\n",
       "       [12.35421765, 20.14764617],\n",
       "       [ 8.52242924, 14.63723132],\n",
       "       [10.09898179, 21.48867471],\n",
       "       [ 9.4749242 , 16.05291418],\n",
       "       [12.83355064, 20.75093634],\n",
       "       [10.19842853, 20.22039931],\n",
       "       [ 6.09294907, 22.334586  ],\n",
       "       [12.34863602, 23.31182392],\n",
       "       [11.80980193, 20.48258767],\n",
       "       [ 9.23760403, 19.19816839],\n",
       "       [ 9.4542095 , 16.31719531],\n",
       "       [10.12560077, 19.97301812],\n",
       "       [10.55837647, 20.49911544],\n",
       "       [10.55298002, 19.43587425],\n",
       "       [ 9.22456861, 15.95819657],\n",
       "       [ 9.7345296 , 16.95295993],\n",
       "       [ 8.08373528, 19.67861802],\n",
       "       [ 8.7530423 , 17.54736   ],\n",
       "       [11.07384438, 21.99428626],\n",
       "       [10.63087702, 19.83811944],\n",
       "       [10.07038678, 19.30200052],\n",
       "       [10.2828728 , 17.26346497],\n",
       "       [ 9.24483059, 20.65843934],\n",
       "       [13.08479416, 22.35243759],\n",
       "       [ 8.1383337 , 15.14784265],\n",
       "       [11.07716898, 18.04915815],\n",
       "       [ 8.14563422, 16.91486621],\n",
       "       [12.38039375, 21.44286131],\n",
       "       [ 9.4008567 , 18.19614135],\n",
       "       [ 6.5935661 , 20.92098135],\n",
       "       [10.43568212, 22.73165384],\n",
       "       [ 8.79256107, 24.22856038],\n",
       "       [11.1413343 , 21.07271146],\n",
       "       [ 7.82796828, 23.84859614],\n",
       "       [11.0194682 , 23.05341962],\n",
       "       [10.35194179, 21.28999963],\n",
       "       [11.62343402, 16.35460682],\n",
       "       [ 9.81049986, 21.24510768],\n",
       "       [11.03544672, 21.90504464],\n",
       "       [10.50367407, 17.29127627],\n",
       "       [12.29310009, 21.30587611],\n",
       "       [ 8.64318125, 15.69228246],\n",
       "       [11.72230976, 20.29817667],\n",
       "       [ 8.27737076, 21.05976213],\n",
       "       [ 8.61277823, 20.39712542],\n",
       "       [ 6.94894594, 21.45418239],\n",
       "       [ 6.44286593, 21.08590313],\n",
       "       [ 9.62570249, 19.78354202],\n",
       "       [ 8.82433723, 20.72267636],\n",
       "       [11.95736598, 19.29473183],\n",
       "       [ 8.87069384, 16.6486316 ],\n",
       "       [10.93112453, 20.7476667 ],\n",
       "       [ 9.10096041, 17.50492181],\n",
       "       [11.53868307, 21.40868257],\n",
       "       [ 8.17477965, 15.00205106],\n",
       "       [ 7.87400599, 20.42792558],\n",
       "       [12.11567868, 23.58498073],\n",
       "       [ 9.53105205, 15.76365231],\n",
       "       [14.11648014, 22.51219914],\n",
       "       [ 8.51317577, 19.34922947],\n",
       "       [11.79827256, 21.12911565]])"
      ]
     },
     "execution_count": 22,
     "metadata": {},
     "output_type": "execute_result"
    }
   ],
   "source": [
    "c"
   ]
  },
  {
   "cell_type": "markdown",
   "metadata": {},
   "source": [
    "### 9. Combine all three arrays a,b,c into a dataframe"
   ]
  },
  {
   "cell_type": "code",
   "execution_count": 23,
   "metadata": {},
   "outputs": [
    {
     "data": {
      "text/html": [
       "<div>\n",
       "<style scoped>\n",
       "    .dataframe tbody tr th:only-of-type {\n",
       "        vertical-align: middle;\n",
       "    }\n",
       "\n",
       "    .dataframe tbody tr th {\n",
       "        vertical-align: top;\n",
       "    }\n",
       "\n",
       "    .dataframe thead th {\n",
       "        text-align: right;\n",
       "    }\n",
       "</style>\n",
       "<table border=\"1\" class=\"dataframe\">\n",
       "  <thead>\n",
       "    <tr style=\"text-align: right;\">\n",
       "      <th></th>\n",
       "      <th>0</th>\n",
       "      <th>1</th>\n",
       "      <th>0</th>\n",
       "      <th>1</th>\n",
       "      <th>0</th>\n",
       "      <th>1</th>\n",
       "    </tr>\n",
       "  </thead>\n",
       "  <tbody>\n",
       "    <tr>\n",
       "      <th>0</th>\n",
       "      <td>7.839975</td>\n",
       "      <td>-0.960174</td>\n",
       "      <td>-0.442173</td>\n",
       "      <td>18.724737</td>\n",
       "      <td>10.433561</td>\n",
       "      <td>22.945983</td>\n",
       "    </tr>\n",
       "    <tr>\n",
       "      <th>1</th>\n",
       "      <td>5.049283</td>\n",
       "      <td>-1.419784</td>\n",
       "      <td>0.725789</td>\n",
       "      <td>18.434050</td>\n",
       "      <td>8.430281</td>\n",
       "      <td>20.476029</td>\n",
       "    </tr>\n",
       "    <tr>\n",
       "      <th>2</th>\n",
       "      <td>11.322270</td>\n",
       "      <td>-2.119786</td>\n",
       "      <td>0.155190</td>\n",
       "      <td>22.280175</td>\n",
       "      <td>10.882004</td>\n",
       "      <td>22.434079</td>\n",
       "    </tr>\n",
       "    <tr>\n",
       "      <th>3</th>\n",
       "      <td>12.092183</td>\n",
       "      <td>1.208608</td>\n",
       "      <td>2.063958</td>\n",
       "      <td>20.683566</td>\n",
       "      <td>9.311737</td>\n",
       "      <td>15.889367</td>\n",
       "    </tr>\n",
       "    <tr>\n",
       "      <th>4</th>\n",
       "      <td>9.576496</td>\n",
       "      <td>-0.246476</td>\n",
       "      <td>0.226709</td>\n",
       "      <td>19.526803</td>\n",
       "      <td>9.683428</td>\n",
       "      <td>18.839319</td>\n",
       "    </tr>\n",
       "  </tbody>\n",
       "</table>\n",
       "</div>"
      ],
      "text/plain": [
       "           0         1         0          1          0          1\n",
       "0   7.839975 -0.960174 -0.442173  18.724737  10.433561  22.945983\n",
       "1   5.049283 -1.419784  0.725789  18.434050   8.430281  20.476029\n",
       "2  11.322270 -2.119786  0.155190  22.280175  10.882004  22.434079\n",
       "3  12.092183  1.208608  2.063958  20.683566   9.311737  15.889367\n",
       "4   9.576496 -0.246476  0.226709  19.526803   9.683428  18.839319"
      ]
     },
     "execution_count": 23,
     "metadata": {},
     "output_type": "execute_result"
    }
   ],
   "source": [
    "A=pd.DataFrame(a)\n",
    "B=pd.DataFrame(b)\n",
    "C=pd.DataFrame(c)\n",
    "dt1=pd.concat((A,B,C),axis=1)\n",
    "dt1.head()\n"
   ]
  },
  {
   "cell_type": "markdown",
   "metadata": {},
   "source": [
    "### 10. Use scatter matrix to print all the 3 distributions"
   ]
  },
  {
   "cell_type": "code",
   "execution_count": 24,
   "metadata": {},
   "outputs": [
    {
     "data": {
      "image/png": "[encoded data removed]",
      "text/plain": [
       "<Figure size 432x288 with 36 Axes>"
      ]
     },
     "metadata": {},
     "output_type": "display_data"
    }
   ],
   "source": [
    "pd.plotting.scatter_matrix(dt1,alpha=0.4);"
   ]
  },
  {
   "cell_type": "code",
   "execution_count": 25,
   "metadata": {},
   "outputs": [
    {
     "data": {
      "image/png": "[encoded data removed]",
      "text/plain": [
       "<Figure size 432x288 with 36 Axes>"
      ]
     },
     "metadata": {},
     "output_type": "display_data"
    }
   ],
   "source": [
    "pd.plotting.scatter_matrix(dt1,alpha=0.8);"
   ]
  },
  {
   "cell_type": "markdown",
   "metadata": {},
   "source": [
    "### 11. Find out the linkage matrix"
   ]
  },
  {
   "cell_type": "code",
   "execution_count": 26,
   "metadata": {},
   "outputs": [],
   "source": [
    "from sklearn.cluster import AgglomerativeClustering "
   ]
  },
  {
   "cell_type": "code",
   "execution_count": 27,
   "metadata": {},
   "outputs": [],
   "source": [
    "model = AgglomerativeClustering(n_clusters=3, affinity='euclidean',  linkage='average')"
   ]
  },
  {
   "cell_type": "code",
   "execution_count": 28,
   "metadata": {},
   "outputs": [],
   "source": [
    "dt1.dropna(inplace=True)\n"
   ]
  },
  {
   "cell_type": "code",
   "execution_count": 29,
   "metadata": {},
   "outputs": [
    {
     "data": {
      "text/plain": [
       "AgglomerativeClustering(affinity='euclidean', compute_full_tree='auto',\n",
       "            connectivity=None, linkage='average', memory=None,\n",
       "            n_clusters=3,\n",
       "            pooling_func=<function mean at 0x00000056DEA8A598>)"
      ]
     },
     "execution_count": 29,
     "metadata": {},
     "output_type": "execute_result"
    }
   ],
   "source": [
    "model.fit(dt1)"
   ]
  },
  {
   "cell_type": "markdown",
   "metadata": {},
   "source": [
    "Use ward as linkage metric and distance as Eucledian"
   ]
  },
  {
   "cell_type": "code",
   "execution_count": 30,
   "metadata": {},
   "outputs": [],
   "source": [
    "from scipy.cluster.hierarchy import cophenet, dendrogram, linkage,fcluster\n",
    "from scipy.spatial.distance import pdist"
   ]
  },
  {
   "cell_type": "code",
   "execution_count": 31,
   "metadata": {},
   "outputs": [
    {
     "data": {
      "text/plain": [
       "0.471709483050728"
      ]
     },
     "execution_count": 31,
     "metadata": {},
     "output_type": "execute_result"
    }
   ],
   "source": [
    "Z = linkage(dt1, 'ward',metric='euclidean')\n",
    "c, coph_dists = cophenet(Z , pdist(dt1))\n",
    "\n",
    "c"
   ]
  },
  {
   "cell_type": "markdown",
   "metadata": {},
   "source": [
    "### 12. Plot the dendrogram for the consolidated dataframe"
   ]
  },
  {
   "cell_type": "code",
   "execution_count": 32,
   "metadata": {},
   "outputs": [
    {
     "data": {
      "image/png": "[encoded data removed]",
      "text/plain": [
       "<Figure size 720x720 with 1 Axes>"
      ]
     },
     "metadata": {},
     "output_type": "display_data"
    }
   ],
   "source": [
    "plt.figure(figsize=(10, 10))\n",
    "plt.title('Agglomerative Hierarchical Clustering Dendogram')\n",
    "plt.xlabel('sample index')\n",
    "plt.ylabel('Distance')\n",
    "dendrogram(Z, leaf_rotation=90.,color_threshold = 40, leaf_font_size=8. )\n",
    "plt.tight_layout()"
   ]
  },
  {
   "cell_type": "code",
   "execution_count": null,
   "metadata": {},
   "outputs": [],
   "source": []
  },
  {
   "cell_type": "code",
   "execution_count": null,
   "metadata": {},
   "outputs": [],
   "source": []
  },
  {
   "cell_type": "markdown",
   "metadata": {},
   "source": [
    "### 13. Recreate the dendrogram for last 12 merged clusters "
   ]
  },
  {
   "cell_type": "code",
   "execution_count": 33,
   "metadata": {},
   "outputs": [
    {
     "data": {
      "image/png": "[encoded data removed]",
      "text/plain": [
       "<Figure size 720x720 with 1 Axes>"
      ]
     },
     "metadata": {},
     "output_type": "display_data"
    }
   ],
   "source": [
    "plt.figure(figsize=(10, 10))\n",
    "plt.title('Agglomerative Hierarchical Clustering Dendogram')\n",
    "plt.xlabel('sample index')\n",
    "plt.ylabel('Distance')\n",
    "dendrogram(Z,p=12,truncate_mode='lastp', leaf_rotation=90.,color_threshold = 40, leaf_font_size=8. )\n",
    "plt.tight_layout()"
   ]
  },
  {
   "cell_type": "markdown",
   "metadata": {},
   "source": [
    "Hint: Use truncate_mode='lastp' attribute in dendrogram function to arrive at dendrogram "
   ]
  },
  {
   "cell_type": "code",
   "execution_count": null,
   "metadata": {},
   "outputs": [],
   "source": []
  },
  {
   "cell_type": "code",
   "execution_count": null,
   "metadata": {},
   "outputs": [],
   "source": []
  },
  {
   "cell_type": "markdown",
   "metadata": {},
   "source": [
    "### 14. From the truncated dendrogram, find out the optimal distance between clusters which u want to use an input for clustering data"
   ]
  },
  {
   "cell_type": "code",
   "execution_count": 34,
   "metadata": {},
   "outputs": [],
   "source": [
    "## we can take 12.5 as the optimal value for 4 clustering based truncated dendogram"
   ]
  },
  {
   "cell_type": "code",
   "execution_count": 35,
   "metadata": {},
   "outputs": [],
   "source": [
    "t=12.5"
   ]
  },
  {
   "cell_type": "markdown",
   "metadata": {},
   "source": [
    "### 15. Using this distance measure and fcluster function to cluster the data into 3 different groups"
   ]
  },
  {
   "cell_type": "code",
   "execution_count": null,
   "metadata": {},
   "outputs": [],
   "source": []
  },
  {
   "cell_type": "code",
   "execution_count": 49,
   "metadata": {},
   "outputs": [],
   "source": [
    "fc=fcluster(Z,t,criterion='distance')"
   ]
  },
  {
   "cell_type": "markdown",
   "metadata": {},
   "source": [
    "### Use matplotlib to visually observe the clusters in 2D space "
   ]
  },
  {
   "cell_type": "code",
   "execution_count": 51,
   "metadata": {},
   "outputs": [
    {
     "data": {
      "text/plain": [
       "<matplotlib.collections.PathCollection at 0x56e7b73e10>"
      ]
     },
     "execution_count": 51,
     "metadata": {},
     "output_type": "execute_result"
    },
    {
     "data": {
      "image/png": "[encoded data removed]",
      "text/plain": [
       "<Figure size 432x288 with 1 Axes>"
      ]
     },
     "metadata": {},
     "output_type": "display_data"
    }
   ],
   "source": [
    "plt.scatter(dt1[0],dt1[1])"
   ]
  },
  {
   "cell_type": "code",
   "execution_count": null,
   "metadata": {},
   "outputs": [],
   "source": []
  }
 ],
 "metadata": {
  "kernelspec": {
   "display_name": "Python 3",
   "language": "python",
   "name": "python3"
  },
  "language_info": {
   "codemirror_mode": {
    "name": "ipython",
    "version": 3
   },
   "file_extension": ".py",
   "mimetype": "text/x-python",
   "name": "python",
   "nbconvert_exporter": "python",
   "pygments_lexer": "ipython3",
   "version": "3.6.5"
  }
 },
 "nbformat": 4,
 "nbformat_minor": 2
}
