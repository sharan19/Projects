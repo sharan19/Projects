{
  "nbformat": 4,
  "nbformat_minor": 0,
  "metadata": {
    "colab": {
      "name": "R6_Internal_Lab_UpdatedTF2_Prices_Iris.ipynb",
      "version": "0.3.2",
      "provenance": [],
      "collapsed_sections": [],
      "toc_visible": true,
      "include_colab_link": true
    },
    "kernelspec": {
      "display_name": "Python 2",
      "language": "python",
      "name": "python2"
    }
  },
  "cells": [
    {
      "cell_type": "markdown",
      "metadata": {
        "id": "view-in-github",
        "colab_type": "text"
      },
      "source": [
        "<a href=\"https://colab.research.google.com/github/GreatLearningAIML1/chennai-nov18-batch-sharan19/blob/master/R6_Internal_Lab_UpdatedTF2_Prices_Iris.ipynb\" target=\"_parent\"><img src=\"https://colab.research.google.com/assets/colab-badge.svg\" alt=\"Open In Colab\"/></a>"
      ]
    },
    {
      "metadata": {
        "colab_type": "text",
        "id": "84Q8JfvaeZZ6"
      },
      "cell_type": "markdown",
      "source": [
        "## Linear Classifier in TensorFlow \n",
        "Using Low Level API in Eager Execution mode"
      ]
    },
    {
      "metadata": {
        "colab_type": "text",
        "id": "sb7Epo0VOB58"
      },
      "cell_type": "markdown",
      "source": [
        "### Load tensorflow"
      ]
    },
    {
      "metadata": {
        "colab_type": "code",
        "id": "fHpCNRv1OB5-",
        "colab": {}
      },
      "cell_type": "code",
      "source": [
        "import tensorflow as tf"
      ],
      "execution_count": 0,
      "outputs": []
    },
    {
      "metadata": {
        "colab_type": "code",
        "id": "Mjtb-EMcm5K0",
        "colab": {}
      },
      "cell_type": "code",
      "source": [
        "#Enable Eager Execution if using tensflow version < 2.0\n",
        "#From tensorflow v2.0 onwards, Eager Execution will be enabled by default\n",
        "tf.enable_eager_execution()"
      ],
      "execution_count": 0,
      "outputs": []
    },
    {
      "metadata": {
        "colab_type": "text",
        "id": "DxJDmJqqOB6K"
      },
      "cell_type": "markdown",
      "source": [
        "### Collect Data"
      ]
    },
    {
      "metadata": {
        "colab_type": "code",
        "id": "FhllFLyKOB6N",
        "colab": {}
      },
      "cell_type": "code",
      "source": [
        "#from google.colab import drive\n",
        "#drive.mount('/gdrive')\n",
        "from sklearn.preprocessing import Normalizer"
      ],
      "execution_count": 0,
      "outputs": []
    },
    {
      "metadata": {
        "colab_type": "code",
        "id": "KiObW4V4SIOz",
        "colab": {}
      },
      "cell_type": "code",
      "source": [
        "import pandas as pd"
      ],
      "execution_count": 0,
      "outputs": []
    },
    {
      "metadata": {
        "colab_type": "code",
        "id": "B4yQKMiJOB6R",
        "colab": {
          "base_uri": "https://localhost:8080/",
          "height": 34
        },
        "outputId": "59f42d09-19c2-468b-ff1f-7a7d7fa150a7"
      },
      "cell_type": "code",
      "source": [
        "data = pd.read_csv('prices.csv')\n",
        "data.shape"
      ],
      "execution_count": 5,
      "outputs": [
        {
          "output_type": "execute_result",
          "data": {
            "text/plain": [
              "(851264, 7)"
            ]
          },
          "metadata": {
            "tags": []
          },
          "execution_count": 5
        }
      ]
    },
    {
      "metadata": {
        "colab_type": "text",
        "id": "fgkX6SEqOB6W"
      },
      "cell_type": "markdown",
      "source": [
        "### Check all columns in the dataset"
      ]
    },
    {
      "metadata": {
        "colab_type": "code",
        "id": "7K8pWsNQOB6X",
        "colab": {
          "base_uri": "https://localhost:8080/",
          "height": 34
        },
        "outputId": "a9a65ddb-b023-40e7-fb5b-aeb080b85012"
      },
      "cell_type": "code",
      "source": [
        "data.columns"
      ],
      "execution_count": 6,
      "outputs": [
        {
          "output_type": "execute_result",
          "data": {
            "text/plain": [
              "Index([u'date', u'symbol', u'open', u'close', u'low', u'high', u'volume'], dtype='object')"
            ]
          },
          "metadata": {
            "tags": []
          },
          "execution_count": 6
        }
      ]
    },
    {
      "metadata": {
        "colab_type": "text",
        "id": "7dU6X7MpOB6c"
      },
      "cell_type": "markdown",
      "source": [
        "### Drop columns `date` and  `symbol`"
      ]
    },
    {
      "metadata": {
        "colab_type": "code",
        "id": "lh_6spSKOB6e",
        "colab": {}
      },
      "cell_type": "code",
      "source": [
        "data.drop(['date','symbol'],axis=1,inplace=True)\n"
      ],
      "execution_count": 0,
      "outputs": []
    },
    {
      "metadata": {
        "colab_type": "code",
        "id": "xlwbUgTwOB6i",
        "outputId": "9707a06a-f728-4069-cf2d-2c8033c266e4",
        "colab": {
          "base_uri": "https://localhost:8080/",
          "height": 204
        }
      },
      "cell_type": "code",
      "source": [
        "data.head()"
      ],
      "execution_count": 8,
      "outputs": [
        {
          "output_type": "execute_result",
          "data": {
            "text/html": [
              "<div>\n",
              "<style scoped>\n",
              "    .dataframe tbody tr th:only-of-type {\n",
              "        vertical-align: middle;\n",
              "    }\n",
              "\n",
              "    .dataframe tbody tr th {\n",
              "        vertical-align: top;\n",
              "    }\n",
              "\n",
              "    .dataframe thead th {\n",
              "        text-align: right;\n",
              "    }\n",
              "</style>\n",
              "<table border=\"1\" class=\"dataframe\">\n",
              "  <thead>\n",
              "    <tr style=\"text-align: right;\">\n",
              "      <th></th>\n",
              "      <th>open</th>\n",
              "      <th>close</th>\n",
              "      <th>low</th>\n",
              "      <th>high</th>\n",
              "      <th>volume</th>\n",
              "    </tr>\n",
              "  </thead>\n",
              "  <tbody>\n",
              "    <tr>\n",
              "      <th>0</th>\n",
              "      <td>123.430000</td>\n",
              "      <td>125.839996</td>\n",
              "      <td>122.309998</td>\n",
              "      <td>126.250000</td>\n",
              "      <td>2163600.0</td>\n",
              "    </tr>\n",
              "    <tr>\n",
              "      <th>1</th>\n",
              "      <td>125.239998</td>\n",
              "      <td>119.980003</td>\n",
              "      <td>119.940002</td>\n",
              "      <td>125.540001</td>\n",
              "      <td>2386400.0</td>\n",
              "    </tr>\n",
              "    <tr>\n",
              "      <th>2</th>\n",
              "      <td>116.379997</td>\n",
              "      <td>114.949997</td>\n",
              "      <td>114.930000</td>\n",
              "      <td>119.739998</td>\n",
              "      <td>2489500.0</td>\n",
              "    </tr>\n",
              "    <tr>\n",
              "      <th>3</th>\n",
              "      <td>115.480003</td>\n",
              "      <td>116.620003</td>\n",
              "      <td>113.500000</td>\n",
              "      <td>117.440002</td>\n",
              "      <td>2006300.0</td>\n",
              "    </tr>\n",
              "    <tr>\n",
              "      <th>4</th>\n",
              "      <td>117.010002</td>\n",
              "      <td>114.970001</td>\n",
              "      <td>114.089996</td>\n",
              "      <td>117.330002</td>\n",
              "      <td>1408600.0</td>\n",
              "    </tr>\n",
              "  </tbody>\n",
              "</table>\n",
              "</div>"
            ],
            "text/plain": [
              "         open       close         low        high     volume\n",
              "0  123.430000  125.839996  122.309998  126.250000  2163600.0\n",
              "1  125.239998  119.980003  119.940002  125.540001  2386400.0\n",
              "2  116.379997  114.949997  114.930000  119.739998  2489500.0\n",
              "3  115.480003  116.620003  113.500000  117.440002  2006300.0\n",
              "4  117.010002  114.970001  114.089996  117.330002  1408600.0"
            ]
          },
          "metadata": {
            "tags": []
          },
          "execution_count": 8
        }
      ]
    },
    {
      "metadata": {
        "colab_type": "text",
        "id": "3DBv3WWYOB6q"
      },
      "cell_type": "markdown",
      "source": [
        "### Consider only first 1000 rows in the dataset for building feature set and target set\n",
        "Target 'Volume' has very high values. Divide 'Volume' by 1000,000"
      ]
    },
    {
      "metadata": {
        "colab_type": "code",
        "id": "Z_hG9rGBOB6s",
        "colab": {
          "base_uri": "https://localhost:8080/",
          "height": 34
        },
        "outputId": "4858e786-959b-4eae-c50a-4247b38d3f94"
      },
      "cell_type": "code",
      "source": [
        "data.volume=data.volume/1000\n",
        "data_1000=data.iloc[:1000,:]\n",
        "data_1000.shape"
      ],
      "execution_count": 9,
      "outputs": [
        {
          "output_type": "execute_result",
          "data": {
            "text/plain": [
              "(1000, 5)"
            ]
          },
          "metadata": {
            "tags": []
          },
          "execution_count": 9
        }
      ]
    },
    {
      "metadata": {
        "colab_type": "text",
        "id": "M3UaApqYOB6x"
      },
      "cell_type": "markdown",
      "source": [
        "### Divide the data into train and test sets"
      ]
    },
    {
      "metadata": {
        "colab_type": "code",
        "id": "4LE4U8lTdQJq",
        "colab": {}
      },
      "cell_type": "code",
      "source": [
        "from sklearn.model_selection import train_test_split"
      ],
      "execution_count": 0,
      "outputs": []
    },
    {
      "metadata": {
        "colab_type": "text",
        "id": "oYK-aUuLbrz2"
      },
      "cell_type": "markdown",
      "source": [
        "#### Convert Training and Test Data to numpy float32 arrays\n"
      ]
    },
    {
      "metadata": {
        "colab_type": "code",
        "id": "Ao-S0tQGcncz",
        "colab": {}
      },
      "cell_type": "code",
      "source": [
        "X=data_1000.drop('volume',axis=1)\n",
        "Y=data_1000.pop('volume')\n"
      ],
      "execution_count": 0,
      "outputs": []
    },
    {
      "metadata": {
        "id": "YqzlX-kuRAzk",
        "colab_type": "code",
        "colab": {}
      },
      "cell_type": "code",
      "source": [
        "transformer = Normalizer()"
      ],
      "execution_count": 0,
      "outputs": []
    },
    {
      "metadata": {
        "id": "SEiUxr3hRCXJ",
        "colab_type": "code",
        "colab": {
          "base_uri": "https://localhost:8080/",
          "height": 34
        },
        "outputId": "2c8dde43-87fc-4129-d08e-584acddff5d1"
      },
      "cell_type": "code",
      "source": [
        "X = transformer.fit_transform(X)\n",
        "X.shape"
      ],
      "execution_count": 13,
      "outputs": [
        {
          "output_type": "execute_result",
          "data": {
            "text/plain": [
              "(1000, 4)"
            ]
          },
          "metadata": {
            "tags": []
          },
          "execution_count": 13
        }
      ]
    },
    {
      "metadata": {
        "id": "TmpgeI_NK-KY",
        "colab_type": "code",
        "colab": {}
      },
      "cell_type": "code",
      "source": [
        "Xtrain,Xtest,ytrain,ytest=train_test_split(X,Y,test_size=0.3,random_state=1)"
      ],
      "execution_count": 0,
      "outputs": []
    },
    {
      "metadata": {
        "id": "Ir7Yeqj5LEa5",
        "colab_type": "code",
        "colab": {}
      },
      "cell_type": "code",
      "source": [
        "Xtrain = Xtrain.astype('float32')\n",
        "ytrain = ytrain.astype('float32')\n",
        "Xtest  = Xtest.astype('float32')\n",
        "ytest  = ytest.astype('float32')"
      ],
      "execution_count": 0,
      "outputs": []
    },
    {
      "metadata": {
        "colab_type": "text",
        "id": "im1ZegbDdKgv"
      },
      "cell_type": "markdown",
      "source": [
        "### Normalize the data\n",
        "You can use Normalizer from sklearn.preprocessing"
      ]
    },
    {
      "metadata": {
        "colab_type": "code",
        "id": "2EkKAy7fOB6y",
        "colab": {
          "base_uri": "https://localhost:8080/",
          "height": 34
        },
        "outputId": "853aacb5-2b1e-4c16-c557-d85e1cef7c67"
      },
      "cell_type": "code",
      "source": [
        "import numpy as np\n",
        "ytrain=np.array([ytrain]).transpose()\n",
        "#ytest=np.array(ytest).transpose\n",
        "ytrain.shape"
      ],
      "execution_count": 16,
      "outputs": [
        {
          "output_type": "execute_result",
          "data": {
            "text/plain": [
              "(700, 1)"
            ]
          },
          "metadata": {
            "tags": []
          },
          "execution_count": 16
        }
      ]
    },
    {
      "metadata": {
        "id": "FykoSWHBLsBw",
        "colab_type": "code",
        "colab": {}
      },
      "cell_type": "code",
      "source": [
        ""
      ],
      "execution_count": 0,
      "outputs": []
    },
    {
      "metadata": {
        "colab_type": "text",
        "id": "v6vE4eYCOB62"
      },
      "cell_type": "markdown",
      "source": [
        "## Building the Model in tensorflow"
      ]
    },
    {
      "metadata": {
        "colab_type": "text",
        "id": "297_qja4OB7A"
      },
      "cell_type": "markdown",
      "source": [
        "1.Define Weights and Bias, use tf.zeros to initialize weights and Bias"
      ]
    },
    {
      "metadata": {
        "colab_type": "code",
        "id": "L205qPeQOB7B",
        "colab": {}
      },
      "cell_type": "code",
      "source": [
        "w = tf.zeros(shape=(4,1))\n",
        "b = tf.zeros(shape=(1))"
      ],
      "execution_count": 0,
      "outputs": []
    },
    {
      "metadata": {
        "colab_type": "text",
        "id": "HgtWA-UIOB7F"
      },
      "cell_type": "markdown",
      "source": [
        "2.Define a function to calculate prediction"
      ]
    },
    {
      "metadata": {
        "colab_type": "code",
        "id": "JveGlx25OB7H",
        "colab": {}
      },
      "cell_type": "code",
      "source": [
        "def prediction(x, w, b):\n",
        "    \n",
        "    xw_matmul = tf.matmul(x, w)\n",
        "    y = tf.add(xw_matmul, b)\n",
        "    \n",
        "    return y"
      ],
      "execution_count": 0,
      "outputs": []
    },
    {
      "metadata": {
        "colab_type": "text",
        "id": "TL1hIwf_OB7M"
      },
      "cell_type": "markdown",
      "source": [
        "3.Loss (Cost) Function [Mean square error]"
      ]
    },
    {
      "metadata": {
        "colab_type": "code",
        "id": "8VSWPiGXOB7P",
        "colab": {}
      },
      "cell_type": "code",
      "source": [
        "def loss(y_actual, y_predicted):\n",
        "    \n",
        "    diff = y_actual - y_predicted\n",
        "    sqr = tf.square(diff)\n",
        "    avg = tf.reduce_mean(sqr)\n",
        "    \n",
        "    return avg"
      ],
      "execution_count": 0,
      "outputs": []
    },
    {
      "metadata": {
        "colab_type": "text",
        "id": "jzG85FUlOB7U"
      },
      "cell_type": "markdown",
      "source": [
        "4.Function to train the Model\n",
        "\n",
        "1.   Record all the mathematical steps to calculate Loss\n",
        "2.   Calculate Gradients of Loss w.r.t weights and bias\n",
        "3.   Update Weights and Bias based on gradients and learning rate to minimize loss"
      ]
    },
    {
      "metadata": {
        "colab_type": "code",
        "id": "cj802w-3OB7X",
        "colab": {}
      },
      "cell_type": "code",
      "source": [
        "def train(x, y_actual, w, b, learning_rate=0.01):\n",
        "    \n",
        "    #Record mathematical operations on 'tape' to calculate loss\n",
        "    with tf.GradientTape() as t:\n",
        "        \n",
        "        t.watch([w,b])\n",
        "        \n",
        "        current_prediction = prediction(x, w, b)\n",
        "        current_loss = loss(y_actual, current_prediction)\n",
        "    \n",
        "    #Calculate Gradients for Loss with respect to Weights and Bias\n",
        "    dw, db = t.gradient(current_loss,[w, b])\n",
        "    \n",
        "    #Update Weights and Bias\n",
        "    w = w - learning_rate*dw\n",
        "    b = b - learning_rate*db\n",
        "    \n",
        "    return w, b"
      ],
      "execution_count": 0,
      "outputs": []
    },
    {
      "metadata": {
        "colab_type": "text",
        "id": "xSypb_u8OB7e"
      },
      "cell_type": "markdown",
      "source": [
        "## Train the model for 100 epochs \n",
        "1. Observe the training loss at every iteration\n",
        "2. Observe Train loss at every 5th iteration"
      ]
    },
    {
      "metadata": {
        "colab_type": "code",
        "id": "DVvgj7eQOB7f",
        "colab": {
          "base_uri": "https://localhost:8080/",
          "height": 2074
        },
        "outputId": "e5c66d9e-b241-4b94-fc04-5d5b48c35e90"
      },
      "cell_type": "code",
      "source": [
        "for i in range(100):\n",
        "    \n",
        "    w, b = train(Xtrain, ytrain, w, b)\n",
        "    print('Current Loss on iteration', i, loss(ytrain, prediction(Xtrain, w, b)).numpy())\n",
        "    \n",
        "print('Loss at every 5th iteration is:')\n",
        "for j in range(100):\n",
        "    w, b = train(Xtrain, ytrain, w, b)\n",
        "    if j%5==0:\n",
        "      print('Current Loss on iteration', j, loss(ytrain, prediction(Xtrain, w, b)).numpy())"
      ],
      "execution_count": 21,
      "outputs": [
        {
          "output_type": "stream",
          "text": [
            "('Current Loss on iteration', 0, 223490370.0)\n",
            "('Current Loss on iteration', 1, 221288480.0)\n",
            "('Current Loss on iteration', 2, 219259230.0)\n",
            "('Current Loss on iteration', 3, 217389040.0)\n",
            "('Current Loss on iteration', 4, 215665470.0)\n",
            "('Current Loss on iteration', 5, 214077070.0)\n",
            "('Current Loss on iteration', 6, 212613100.0)\n",
            "('Current Loss on iteration', 7, 211263980.0)\n",
            "('Current Loss on iteration', 8, 210020590.0)\n",
            "('Current Loss on iteration', 9, 208874700.0)\n",
            "('Current Loss on iteration', 10, 207818660.0)\n",
            "('Current Loss on iteration', 11, 206845360.0)\n",
            "('Current Loss on iteration', 12, 205948400.0)\n",
            "('Current Loss on iteration', 13, 205121760.0)\n",
            "('Current Loss on iteration', 14, 204359900.0)\n",
            "('Current Loss on iteration', 15, 203657760.0)\n",
            "('Current Loss on iteration', 16, 203010670.0)\n",
            "('Current Loss on iteration', 17, 202414350.0)\n",
            "('Current Loss on iteration', 18, 201864740.0)\n",
            "('Current Loss on iteration', 19, 201358240.0)\n",
            "('Current Loss on iteration', 20, 200891440.0)\n",
            "('Current Loss on iteration', 21, 200461220.0)\n",
            "('Current Loss on iteration', 22, 200064740.0)\n",
            "('Current Loss on iteration', 23, 199699360.0)\n",
            "('Current Loss on iteration', 24, 199362580.0)\n",
            "('Current Loss on iteration', 25, 199052210.0)\n",
            "('Current Loss on iteration', 26, 198766220.0)\n",
            "('Current Loss on iteration', 27, 198502580.0)\n",
            "('Current Loss on iteration', 28, 198259630.0)\n",
            "('Current Loss on iteration', 29, 198035740.0)\n",
            "('Current Loss on iteration', 30, 197829420.0)\n",
            "('Current Loss on iteration', 31, 197639250.0)\n",
            "('Current Loss on iteration', 32, 197463970.0)\n",
            "('Current Loss on iteration', 33, 197302500.0)\n",
            "('Current Loss on iteration', 34, 197153620.0)\n",
            "('Current Loss on iteration', 35, 197016400.0)\n",
            "('Current Loss on iteration', 36, 196889950.0)\n",
            "('Current Loss on iteration', 37, 196773420.0)\n",
            "('Current Loss on iteration', 38, 196666060.0)\n",
            "('Current Loss on iteration', 39, 196567090.0)\n",
            "('Current Loss on iteration', 40, 196475820.0)\n",
            "('Current Loss on iteration', 41, 196391800.0)\n",
            "('Current Loss on iteration', 42, 196314320.0)\n",
            "('Current Loss on iteration', 43, 196242910.0)\n",
            "('Current Loss on iteration', 44, 196177100.0)\n",
            "('Current Loss on iteration', 45, 196116460.0)\n",
            "('Current Loss on iteration', 46, 196060560.0)\n",
            "('Current Loss on iteration', 47, 196009040.0)\n",
            "('Current Loss on iteration', 48, 195961580.0)\n",
            "('Current Loss on iteration', 49, 195917800.0)\n",
            "('Current Loss on iteration', 50, 195877440.0)\n",
            "('Current Loss on iteration', 51, 195840290.0)\n",
            "('Current Loss on iteration', 52, 195806030.0)\n",
            "('Current Loss on iteration', 53, 195774480.0)\n",
            "('Current Loss on iteration', 54, 195745380.0)\n",
            "('Current Loss on iteration', 55, 195718580.0)\n",
            "('Current Loss on iteration', 56, 195693840.0)\n",
            "('Current Loss on iteration', 57, 195671070.0)\n",
            "('Current Loss on iteration', 58, 195650050.0)\n",
            "('Current Loss on iteration', 59, 195630700.0)\n",
            "('Current Loss on iteration', 60, 195612860.0)\n",
            "('Current Loss on iteration', 61, 195596420.0)\n",
            "('Current Loss on iteration', 62, 195581260.0)\n",
            "('Current Loss on iteration', 63, 195567330.0)\n",
            "('Current Loss on iteration', 64, 195554430.0)\n",
            "('Current Loss on iteration', 65, 195542580.0)\n",
            "('Current Loss on iteration', 66, 195531620.0)\n",
            "('Current Loss on iteration', 67, 195521550.0)\n",
            "('Current Loss on iteration', 68, 195512270.0)\n",
            "('Current Loss on iteration', 69, 195503680.0)\n",
            "('Current Loss on iteration', 70, 195495790.0)\n",
            "('Current Loss on iteration', 71, 195488530.0)\n",
            "('Current Loss on iteration', 72, 195481810.0)\n",
            "('Current Loss on iteration', 73, 195475630.0)\n",
            "('Current Loss on iteration', 74, 195469970.0)\n",
            "('Current Loss on iteration', 75, 195464690.0)\n",
            "('Current Loss on iteration', 76, 195459840.0)\n",
            "('Current Loss on iteration', 77, 195455380.0)\n",
            "('Current Loss on iteration', 78, 195451250.0)\n",
            "('Current Loss on iteration', 79, 195447460.0)\n",
            "('Current Loss on iteration', 80, 195443970.0)\n",
            "('Current Loss on iteration', 81, 195440740.0)\n",
            "('Current Loss on iteration', 82, 195437760.0)\n",
            "('Current Loss on iteration', 83, 195435020.0)\n",
            "('Current Loss on iteration', 84, 195432510.0)\n",
            "('Current Loss on iteration', 85, 195430140.0)\n",
            "('Current Loss on iteration', 86, 195428000.0)\n",
            "('Current Loss on iteration', 87, 195426000.0)\n",
            "('Current Loss on iteration', 88, 195424180.0)\n",
            "('Current Loss on iteration', 89, 195422500.0)\n",
            "('Current Loss on iteration', 90, 195420930.0)\n",
            "('Current Loss on iteration', 91, 195419490.0)\n",
            "('Current Loss on iteration', 92, 195418180.0)\n",
            "('Current Loss on iteration', 93, 195416940.0)\n",
            "('Current Loss on iteration', 94, 195415820.0)\n",
            "('Current Loss on iteration', 95, 195414770.0)\n",
            "('Current Loss on iteration', 96, 195413820.0)\n",
            "('Current Loss on iteration', 97, 195412940.0)\n",
            "('Current Loss on iteration', 98, 195412110.0)\n",
            "('Current Loss on iteration', 99, 195411340.0)\n",
            "Loss at every 5th iteration is:\n",
            "('Current Loss on iteration', 0, 195410690.0)\n",
            "('Current Loss on iteration', 5, 195407860.0)\n",
            "('Current Loss on iteration', 10, 195406020.0)\n",
            "('Current Loss on iteration', 15, 195404740.0)\n",
            "('Current Loss on iteration', 20, 195403840.0)\n",
            "('Current Loss on iteration', 25, 195403220.0)\n",
            "('Current Loss on iteration', 30, 195402780.0)\n",
            "('Current Loss on iteration', 35, 195402450.0)\n",
            "('Current Loss on iteration', 40, 195402220.0)\n",
            "('Current Loss on iteration', 45, 195402030.0)\n",
            "('Current Loss on iteration', 50, 195401860.0)\n",
            "('Current Loss on iteration', 55, 195401710.0)\n",
            "('Current Loss on iteration', 60, 195401600.0)\n",
            "('Current Loss on iteration', 65, 195401470.0)\n",
            "('Current Loss on iteration', 70, 195401330.0)\n",
            "('Current Loss on iteration', 75, 195401260.0)\n",
            "('Current Loss on iteration', 80, 195401150.0)\n",
            "('Current Loss on iteration', 85, 195401060.0)\n",
            "('Current Loss on iteration', 90, 195400930.0)\n",
            "('Current Loss on iteration', 95, 195400880.0)\n"
          ],
          "name": "stdout"
        }
      ]
    },
    {
      "metadata": {
        "colab_type": "text",
        "id": "DOL2ncA1OB7q"
      },
      "cell_type": "markdown",
      "source": [
        "### Get the shapes and values of W and b"
      ]
    },
    {
      "metadata": {
        "colab_type": "code",
        "id": "ZGvtyTeuOB7r",
        "colab": {
          "base_uri": "https://localhost:8080/",
          "height": 102
        },
        "outputId": "33d3c0d9-9b22-456e-9c84-6c80240ee8ef"
      },
      "cell_type": "code",
      "source": [
        "#Check Weights and Bias\n",
        "print('Weights:\\n', w.numpy())\n",
        "print('Bias:\\n',b.numpy())"
      ],
      "execution_count": 22,
      "outputs": [
        {
          "output_type": "stream",
          "text": [
            "('Weights:\\n', array([[1325.5935],\n",
            "       [1423.9921],\n",
            "       [1328.6841],\n",
            "       [1438.602 ]], dtype=float32))\n",
            "('Bias:\\n', array([2759.8713], dtype=float32))\n"
          ],
          "name": "stdout"
        }
      ]
    },
    {
      "metadata": {
        "colab_type": "code",
        "id": "vhDtOv5UOB7x",
        "colab": {}
      },
      "cell_type": "code",
      "source": [
        ""
      ],
      "execution_count": 0,
      "outputs": []
    },
    {
      "metadata": {
        "colab_type": "text",
        "id": "ERq9GOKKciho"
      },
      "cell_type": "markdown",
      "source": [
        "### Model Prediction on 1st Examples in Test Dataset"
      ]
    },
    {
      "metadata": {
        "colab_type": "code",
        "id": "gKGvUWahcihp",
        "colab": {
          "base_uri": "https://localhost:8080/",
          "height": 34
        },
        "outputId": "d1b7143a-6438-454b-88ab-f93e5b19330f"
      },
      "cell_type": "code",
      "source": [
        "prediction([Xtest[0]], w, b)"
      ],
      "execution_count": 23,
      "outputs": [
        {
          "output_type": "execute_result",
          "data": {
            "text/plain": [
              "<tf.Tensor: id=8091, shape=(1, 1), dtype=float32, numpy=array([[5518.8154]], dtype=float32)>"
            ]
          },
          "metadata": {
            "tags": []
          },
          "execution_count": 23
        }
      ]
    },
    {
      "metadata": {
        "colab_type": "text",
        "id": "YJRBuqXhOB7_"
      },
      "cell_type": "markdown",
      "source": [
        "## Classification using tf.Keras\n",
        "\n",
        "In this exercise, we will build a Deep Neural Network using tf.Keras. We will use Iris Dataset for this exercise."
      ]
    },
    {
      "metadata": {
        "colab_type": "text",
        "id": "O0g6lorycihf"
      },
      "cell_type": "markdown",
      "source": [
        "### Load the given Iris data using pandas (Iris.csv)"
      ]
    },
    {
      "metadata": {
        "colab_type": "code",
        "id": "6xFvb5sRcihg",
        "colab": {
          "base_uri": "https://localhost:8080/",
          "height": 34
        },
        "outputId": "8751ed3c-dffb-4164-e369-9b5fcf5d4794"
      },
      "cell_type": "code",
      "source": [
        "df = pd.read_csv('Iris.csv')\n",
        "df.shape"
      ],
      "execution_count": 24,
      "outputs": [
        {
          "output_type": "execute_result",
          "data": {
            "text/plain": [
              "(150, 6)"
            ]
          },
          "metadata": {
            "tags": []
          },
          "execution_count": 24
        }
      ]
    },
    {
      "metadata": {
        "colab_type": "text",
        "id": "SAB--Qdwcihm"
      },
      "cell_type": "markdown",
      "source": [
        "### Target set has different categories. So, Label encode them. And convert into one-hot vectors using get_dummies in pandas."
      ]
    },
    {
      "metadata": {
        "colab_type": "code",
        "id": "IJr5dYnocihm",
        "colab": {}
      },
      "cell_type": "code",
      "source": [
        "df = pd.get_dummies(df, columns=['Species'])"
      ],
      "execution_count": 0,
      "outputs": []
    },
    {
      "metadata": {
        "id": "3e9gx6_IYdm3",
        "colab_type": "code",
        "colab": {
          "base_uri": "https://localhost:8080/",
          "height": 204
        },
        "outputId": "7033ac9f-98c2-47f2-d855-4017fdc9869d"
      },
      "cell_type": "code",
      "source": [
        "df.head()"
      ],
      "execution_count": 26,
      "outputs": [
        {
          "output_type": "execute_result",
          "data": {
            "text/html": [
              "<div>\n",
              "<style scoped>\n",
              "    .dataframe tbody tr th:only-of-type {\n",
              "        vertical-align: middle;\n",
              "    }\n",
              "\n",
              "    .dataframe tbody tr th {\n",
              "        vertical-align: top;\n",
              "    }\n",
              "\n",
              "    .dataframe thead th {\n",
              "        text-align: right;\n",
              "    }\n",
              "</style>\n",
              "<table border=\"1\" class=\"dataframe\">\n",
              "  <thead>\n",
              "    <tr style=\"text-align: right;\">\n",
              "      <th></th>\n",
              "      <th>Id</th>\n",
              "      <th>SepalLengthCm</th>\n",
              "      <th>SepalWidthCm</th>\n",
              "      <th>PetalLengthCm</th>\n",
              "      <th>PetalWidthCm</th>\n",
              "      <th>Species_Iris-setosa</th>\n",
              "      <th>Species_Iris-versicolor</th>\n",
              "      <th>Species_Iris-virginica</th>\n",
              "    </tr>\n",
              "  </thead>\n",
              "  <tbody>\n",
              "    <tr>\n",
              "      <th>0</th>\n",
              "      <td>1</td>\n",
              "      <td>5.1</td>\n",
              "      <td>3.5</td>\n",
              "      <td>1.4</td>\n",
              "      <td>0.2</td>\n",
              "      <td>1</td>\n",
              "      <td>0</td>\n",
              "      <td>0</td>\n",
              "    </tr>\n",
              "    <tr>\n",
              "      <th>1</th>\n",
              "      <td>2</td>\n",
              "      <td>4.9</td>\n",
              "      <td>3.0</td>\n",
              "      <td>1.4</td>\n",
              "      <td>0.2</td>\n",
              "      <td>1</td>\n",
              "      <td>0</td>\n",
              "      <td>0</td>\n",
              "    </tr>\n",
              "    <tr>\n",
              "      <th>2</th>\n",
              "      <td>3</td>\n",
              "      <td>4.7</td>\n",
              "      <td>3.2</td>\n",
              "      <td>1.3</td>\n",
              "      <td>0.2</td>\n",
              "      <td>1</td>\n",
              "      <td>0</td>\n",
              "      <td>0</td>\n",
              "    </tr>\n",
              "    <tr>\n",
              "      <th>3</th>\n",
              "      <td>4</td>\n",
              "      <td>4.6</td>\n",
              "      <td>3.1</td>\n",
              "      <td>1.5</td>\n",
              "      <td>0.2</td>\n",
              "      <td>1</td>\n",
              "      <td>0</td>\n",
              "      <td>0</td>\n",
              "    </tr>\n",
              "    <tr>\n",
              "      <th>4</th>\n",
              "      <td>5</td>\n",
              "      <td>5.0</td>\n",
              "      <td>3.6</td>\n",
              "      <td>1.4</td>\n",
              "      <td>0.2</td>\n",
              "      <td>1</td>\n",
              "      <td>0</td>\n",
              "      <td>0</td>\n",
              "    </tr>\n",
              "  </tbody>\n",
              "</table>\n",
              "</div>"
            ],
            "text/plain": [
              "   Id  SepalLengthCm  SepalWidthCm  PetalLengthCm  PetalWidthCm  \\\n",
              "0   1            5.1           3.5            1.4           0.2   \n",
              "1   2            4.9           3.0            1.4           0.2   \n",
              "2   3            4.7           3.2            1.3           0.2   \n",
              "3   4            4.6           3.1            1.5           0.2   \n",
              "4   5            5.0           3.6            1.4           0.2   \n",
              "\n",
              "   Species_Iris-setosa  Species_Iris-versicolor  Species_Iris-virginica  \n",
              "0                    1                        0                       0  \n",
              "1                    1                        0                       0  \n",
              "2                    1                        0                       0  \n",
              "3                    1                        0                       0  \n",
              "4                    1                        0                       0  "
            ]
          },
          "metadata": {
            "tags": []
          },
          "execution_count": 26
        }
      ]
    },
    {
      "metadata": {
        "colab_type": "text",
        "id": "D95nY5ILcihj"
      },
      "cell_type": "markdown",
      "source": [
        "### Splitting the data into feature set and target set"
      ]
    },
    {
      "metadata": {
        "colab_type": "code",
        "id": "RyMQoLMucihj",
        "colab": {}
      },
      "cell_type": "code",
      "source": [
        "x=df.iloc[:,1:5]\n",
        "y=df.iloc[:,5:8]"
      ],
      "execution_count": 0,
      "outputs": []
    },
    {
      "metadata": {
        "id": "YixcrsnbxnRl",
        "colab_type": "code",
        "colab": {
          "base_uri": "https://localhost:8080/",
          "height": 34
        },
        "outputId": "5523f9bc-d0b7-4b76-f5fa-da97010fe9f2"
      },
      "cell_type": "code",
      "source": [
        "\n",
        "x.shape"
      ],
      "execution_count": 28,
      "outputs": [
        {
          "output_type": "execute_result",
          "data": {
            "text/plain": [
              "(150, 4)"
            ]
          },
          "metadata": {
            "tags": []
          },
          "execution_count": 28
        }
      ]
    },
    {
      "metadata": {
        "id": "FxB1bH2pZnaX",
        "colab_type": "code",
        "colab": {
          "base_uri": "https://localhost:8080/",
          "height": 204
        },
        "outputId": "6f68db21-622d-4795-f8a6-10bbd05483fa"
      },
      "cell_type": "code",
      "source": [
        "y.head()"
      ],
      "execution_count": 29,
      "outputs": [
        {
          "output_type": "execute_result",
          "data": {
            "text/html": [
              "<div>\n",
              "<style scoped>\n",
              "    .dataframe tbody tr th:only-of-type {\n",
              "        vertical-align: middle;\n",
              "    }\n",
              "\n",
              "    .dataframe tbody tr th {\n",
              "        vertical-align: top;\n",
              "    }\n",
              "\n",
              "    .dataframe thead th {\n",
              "        text-align: right;\n",
              "    }\n",
              "</style>\n",
              "<table border=\"1\" class=\"dataframe\">\n",
              "  <thead>\n",
              "    <tr style=\"text-align: right;\">\n",
              "      <th></th>\n",
              "      <th>Species_Iris-setosa</th>\n",
              "      <th>Species_Iris-versicolor</th>\n",
              "      <th>Species_Iris-virginica</th>\n",
              "    </tr>\n",
              "  </thead>\n",
              "  <tbody>\n",
              "    <tr>\n",
              "      <th>0</th>\n",
              "      <td>1</td>\n",
              "      <td>0</td>\n",
              "      <td>0</td>\n",
              "    </tr>\n",
              "    <tr>\n",
              "      <th>1</th>\n",
              "      <td>1</td>\n",
              "      <td>0</td>\n",
              "      <td>0</td>\n",
              "    </tr>\n",
              "    <tr>\n",
              "      <th>2</th>\n",
              "      <td>1</td>\n",
              "      <td>0</td>\n",
              "      <td>0</td>\n",
              "    </tr>\n",
              "    <tr>\n",
              "      <th>3</th>\n",
              "      <td>1</td>\n",
              "      <td>0</td>\n",
              "      <td>0</td>\n",
              "    </tr>\n",
              "    <tr>\n",
              "      <th>4</th>\n",
              "      <td>1</td>\n",
              "      <td>0</td>\n",
              "      <td>0</td>\n",
              "    </tr>\n",
              "  </tbody>\n",
              "</table>\n",
              "</div>"
            ],
            "text/plain": [
              "   Species_Iris-setosa  Species_Iris-versicolor  Species_Iris-virginica\n",
              "0                    1                        0                       0\n",
              "1                    1                        0                       0\n",
              "2                    1                        0                       0\n",
              "3                    1                        0                       0\n",
              "4                    1                        0                       0"
            ]
          },
          "metadata": {
            "tags": []
          },
          "execution_count": 29
        }
      ]
    },
    {
      "metadata": {
        "id": "nbEgqY92Z5w9",
        "colab_type": "code",
        "colab": {}
      },
      "cell_type": "code",
      "source": [
        "#x.drop(['Id'],axis=1,inplace=True)"
      ],
      "execution_count": 0,
      "outputs": []
    },
    {
      "metadata": {
        "id": "5Zw9VzgWyOOf",
        "colab_type": "code",
        "colab": {}
      },
      "cell_type": "code",
      "source": [
        "x = transformer.fit_transform(x)\n",
        "#x.head()"
      ],
      "execution_count": 0,
      "outputs": []
    },
    {
      "metadata": {
        "colab_type": "text",
        "id": "b22qpC5xcihr"
      },
      "cell_type": "markdown",
      "source": [
        "###  Building Model in tf.keras\n",
        "\n",
        "Build a Linear Classifier model  <br>\n",
        "1.  Use Dense Layer  with input shape of 4 (according to the feature set) and number of outputs set to 3<br> \n",
        "2. Apply Softmax on Dense Layer outputs <br>\n",
        "3. Use SGD as Optimizer\n",
        "4. Use categorical_crossentropy as loss function "
      ]
    },
    {
      "metadata": {
        "colab_type": "code",
        "id": "Hov_UFnUciht",
        "colab": {}
      },
      "cell_type": "code",
      "source": [
        "xtrain1,xtest1,ytrain1,ytest1=train_test_split(x,y,test_size=0.3,random_state=1)"
      ],
      "execution_count": 0,
      "outputs": []
    },
    {
      "metadata": {
        "id": "962KXksIsC51",
        "colab_type": "code",
        "colab": {}
      },
      "cell_type": "code",
      "source": [
        ""
      ],
      "execution_count": 0,
      "outputs": []
    },
    {
      "metadata": {
        "colab_type": "text",
        "id": "T5FdzqIKcihw"
      },
      "cell_type": "markdown",
      "source": [
        "### Model Training "
      ]
    },
    {
      "metadata": {
        "colab_type": "code",
        "id": "4qLEdHPscihx",
        "colab": {
          "base_uri": "https://localhost:8080/",
          "height": 275
        },
        "outputId": "f2faa9ed-3bd7-49e8-8ac5-c30c2d50bc2e"
      },
      "cell_type": "code",
      "source": [
        "model = tf.keras.models.Sequential([\n",
        "    tf.keras.layers.Dense(10,input_dim=4),\n",
        "    tf.keras.layers.Dense(3,activation='softmax')\n",
        "])\n",
        "model.summary()"
      ],
      "execution_count": 34,
      "outputs": [
        {
          "output_type": "stream",
          "text": [
            "WARNING:tensorflow:From /usr/local/lib/python2.7/dist-packages/tensorflow/python/ops/resource_variable_ops.py:642: colocate_with (from tensorflow.python.framework.ops) is deprecated and will be removed in a future version.\n",
            "Instructions for updating:\n",
            "Colocations handled automatically by placer.\n",
            "_________________________________________________________________\n",
            "Layer (type)                 Output Shape              Param #   \n",
            "=================================================================\n",
            "dense (Dense)                (None, 10)                50        \n",
            "_________________________________________________________________\n",
            "dense_1 (Dense)              (None, 3)                 33        \n",
            "=================================================================\n",
            "Total params: 83\n",
            "Trainable params: 83\n",
            "Non-trainable params: 0\n",
            "_________________________________________________________________\n"
          ],
          "name": "stdout"
        }
      ]
    },
    {
      "metadata": {
        "colab_type": "text",
        "id": "y-SgSSdRcih5"
      },
      "cell_type": "markdown",
      "source": [
        "### Model Prediction"
      ]
    },
    {
      "metadata": {
        "colab_type": "code",
        "id": "GBgKZkhkcih6",
        "colab": {}
      },
      "cell_type": "code",
      "source": [
        "model.add(tf.keras.layers.BatchNormalization())"
      ],
      "execution_count": 0,
      "outputs": []
    },
    {
      "metadata": {
        "id": "GOfK4vAwlWQX",
        "colab_type": "code",
        "colab": {
          "base_uri": "https://localhost:8080/",
          "height": 34
        },
        "outputId": "2ca7b79d-908d-4005-ba89-dd3a27003c23"
      },
      "cell_type": "code",
      "source": [
        "#model.add(tf.keras.layers.Dense(100))\n",
        "xtrain1.shape"
      ],
      "execution_count": 36,
      "outputs": [
        {
          "output_type": "execute_result",
          "data": {
            "text/plain": [
              "(105, 4)"
            ]
          },
          "metadata": {
            "tags": []
          },
          "execution_count": 36
        }
      ]
    },
    {
      "metadata": {
        "id": "ECzPnnCpjMoT",
        "colab_type": "code",
        "colab": {
          "base_uri": "https://localhost:8080/",
          "height": 34
        },
        "outputId": "dba5f6ad-9a27-4021-c4a0-02610d0f5c40"
      },
      "cell_type": "code",
      "source": [
        "ytrain1.shape\n",
        "#model.add(tf.keras.layers.Dense(100, activation='softmax'))\n",
        "#model.add(tf.keras.layers.Dense(3,activation='softmax'))"
      ],
      "execution_count": 37,
      "outputs": [
        {
          "output_type": "execute_result",
          "data": {
            "text/plain": [
              "(105, 3)"
            ]
          },
          "metadata": {
            "tags": []
          },
          "execution_count": 37
        }
      ]
    },
    {
      "metadata": {
        "id": "rIO-TsL6jTs9",
        "colab_type": "code",
        "colab": {}
      },
      "cell_type": "code",
      "source": [
        "sgd_optimizer = tf.keras.optimizers.SGD(lr=0.03)"
      ],
      "execution_count": 0,
      "outputs": []
    },
    {
      "metadata": {
        "id": "vlLLFS6sjXd2",
        "colab_type": "code",
        "colab": {}
      },
      "cell_type": "code",
      "source": [
        "model.compile(optimizer=sgd_optimizer, loss='categorical_crossentropy', metrics=['accuracy'])"
      ],
      "execution_count": 0,
      "outputs": []
    },
    {
      "metadata": {
        "id": "LNui_PnEp68Q",
        "colab_type": "code",
        "colab": {}
      },
      "cell_type": "code",
      "source": [
        "#model.summary()"
      ],
      "execution_count": 0,
      "outputs": []
    },
    {
      "metadata": {
        "id": "PaBvPRJZjcWJ",
        "colab_type": "code",
        "colab": {
          "base_uri": "https://localhost:8080/",
          "height": 1822
        },
        "outputId": "7e30fb87-f030-46be-b384-699d8b753fb1"
      },
      "cell_type": "code",
      "source": [
        "model.fit(xtrain1,ytrain1,          \n",
        "          validation_data=(xtest1,ytest1),\n",
        "          epochs=50,\n",
        "          batch_size=xtrain1.shape[0])"
      ],
      "execution_count": 44,
      "outputs": [
        {
          "output_type": "stream",
          "text": [
            "Train on 105 samples, validate on 45 samples\n",
            "WARNING:tensorflow:From /usr/local/lib/python2.7/dist-packages/tensorflow/python/ops/math_ops.py:3066: to_int32 (from tensorflow.python.ops.math_ops) is deprecated and will be removed in a future version.\n",
            "Instructions for updating:\n",
            "Use tf.cast instead.\n",
            "Epoch 1/50\n",
            "105/105 [==============================] - 0s 2ms/sample - loss: 5.6854 - acc: 0.1429 - val_loss: 1.3537 - val_acc: 0.2889\n",
            "Epoch 2/50\n",
            "105/105 [==============================] - 0s 46us/sample - loss: 5.6803 - acc: 0.1524 - val_loss: 1.3548 - val_acc: 0.2889\n",
            "Epoch 3/50\n",
            "105/105 [==============================] - 0s 37us/sample - loss: 5.6797 - acc: 0.1619 - val_loss: 1.3555 - val_acc: 0.2889\n",
            "Epoch 4/50\n",
            "105/105 [==============================] - 0s 40us/sample - loss: 5.6797 - acc: 0.1619 - val_loss: 1.3562 - val_acc: 0.2889\n",
            "Epoch 5/50\n",
            "105/105 [==============================] - 0s 37us/sample - loss: 5.6797 - acc: 0.1619 - val_loss: 1.3570 - val_acc: 0.2889\n",
            "Epoch 6/50\n",
            "105/105 [==============================] - 0s 37us/sample - loss: 5.6797 - acc: 0.1619 - val_loss: 1.3578 - val_acc: 0.2889\n",
            "Epoch 7/50\n",
            "105/105 [==============================] - 0s 38us/sample - loss: 5.6797 - acc: 0.1619 - val_loss: 1.3585 - val_acc: 0.2889\n",
            "Epoch 8/50\n",
            "105/105 [==============================] - 0s 50us/sample - loss: 5.6797 - acc: 0.1619 - val_loss: 1.3593 - val_acc: 0.2889\n",
            "Epoch 9/50\n",
            "105/105 [==============================] - 0s 43us/sample - loss: 5.6797 - acc: 0.1619 - val_loss: 1.3601 - val_acc: 0.2889\n",
            "Epoch 10/50\n",
            "105/105 [==============================] - 0s 47us/sample - loss: 5.6797 - acc: 0.1619 - val_loss: 1.3609 - val_acc: 0.2889\n",
            "Epoch 11/50\n",
            "105/105 [==============================] - 0s 52us/sample - loss: 5.6797 - acc: 0.1619 - val_loss: 1.3617 - val_acc: 0.2889\n",
            "Epoch 12/50\n",
            "105/105 [==============================] - 0s 47us/sample - loss: 5.6797 - acc: 0.1619 - val_loss: 1.3626 - val_acc: 0.2889\n",
            "Epoch 13/50\n",
            "105/105 [==============================] - 0s 61us/sample - loss: 5.6797 - acc: 0.1619 - val_loss: 1.3634 - val_acc: 0.2889\n",
            "Epoch 14/50\n",
            "105/105 [==============================] - 0s 48us/sample - loss: 5.6797 - acc: 0.1619 - val_loss: 1.3643 - val_acc: 0.2889\n",
            "Epoch 15/50\n",
            "105/105 [==============================] - 0s 46us/sample - loss: 5.6797 - acc: 0.1619 - val_loss: 1.3651 - val_acc: 0.2889\n",
            "Epoch 16/50\n",
            "105/105 [==============================] - 0s 46us/sample - loss: 5.6797 - acc: 0.1619 - val_loss: 1.3660 - val_acc: 0.2889\n",
            "Epoch 17/50\n",
            "105/105 [==============================] - 0s 45us/sample - loss: 5.6797 - acc: 0.1619 - val_loss: 1.3669 - val_acc: 0.2889\n",
            "Epoch 18/50\n",
            "105/105 [==============================] - 0s 36us/sample - loss: 5.6797 - acc: 0.1619 - val_loss: 1.3678 - val_acc: 0.2889\n",
            "Epoch 19/50\n",
            "105/105 [==============================] - 0s 41us/sample - loss: 5.6797 - acc: 0.1619 - val_loss: 1.3687 - val_acc: 0.2889\n",
            "Epoch 20/50\n",
            "105/105 [==============================] - 0s 41us/sample - loss: 5.6797 - acc: 0.1619 - val_loss: 1.3697 - val_acc: 0.2889\n",
            "Epoch 21/50\n",
            "105/105 [==============================] - 0s 46us/sample - loss: 5.6797 - acc: 0.1619 - val_loss: 1.3706 - val_acc: 0.2889\n",
            "Epoch 22/50\n",
            "105/105 [==============================] - 0s 29us/sample - loss: 5.6797 - acc: 0.1619 - val_loss: 1.3716 - val_acc: 0.2889\n",
            "Epoch 23/50\n",
            "105/105 [==============================] - 0s 34us/sample - loss: 5.6797 - acc: 0.1619 - val_loss: 1.3725 - val_acc: 0.2889\n",
            "Epoch 24/50\n",
            "105/105 [==============================] - 0s 32us/sample - loss: 5.6797 - acc: 0.1619 - val_loss: 1.3735 - val_acc: 0.2889\n",
            "Epoch 25/50\n",
            "105/105 [==============================] - 0s 31us/sample - loss: 5.6797 - acc: 0.1619 - val_loss: 1.3745 - val_acc: 0.2889\n",
            "Epoch 26/50\n",
            "105/105 [==============================] - 0s 45us/sample - loss: 5.6797 - acc: 0.1619 - val_loss: 1.3755 - val_acc: 0.2889\n",
            "Epoch 27/50\n",
            "105/105 [==============================] - 0s 37us/sample - loss: 5.6797 - acc: 0.1619 - val_loss: 1.3766 - val_acc: 0.2889\n",
            "Epoch 28/50\n",
            "105/105 [==============================] - 0s 53us/sample - loss: 5.6797 - acc: 0.1619 - val_loss: 1.3776 - val_acc: 0.2889\n",
            "Epoch 29/50\n",
            "105/105 [==============================] - 0s 49us/sample - loss: 5.6797 - acc: 0.1619 - val_loss: 1.3787 - val_acc: 0.2889\n",
            "Epoch 30/50\n",
            "105/105 [==============================] - 0s 35us/sample - loss: 5.6797 - acc: 0.1619 - val_loss: 1.3797 - val_acc: 0.2889\n",
            "Epoch 31/50\n",
            "105/105 [==============================] - 0s 51us/sample - loss: 5.6797 - acc: 0.1619 - val_loss: 1.3808 - val_acc: 0.2889\n",
            "Epoch 32/50\n",
            "105/105 [==============================] - 0s 53us/sample - loss: 5.6797 - acc: 0.1619 - val_loss: 1.3819 - val_acc: 0.2889\n",
            "Epoch 33/50\n",
            "105/105 [==============================] - 0s 51us/sample - loss: 5.6797 - acc: 0.1619 - val_loss: 1.3831 - val_acc: 0.2889\n",
            "Epoch 34/50\n",
            "105/105 [==============================] - 0s 53us/sample - loss: 5.6797 - acc: 0.1619 - val_loss: 1.3842 - val_acc: 0.2889\n",
            "Epoch 35/50\n",
            "105/105 [==============================] - 0s 43us/sample - loss: 5.6797 - acc: 0.1619 - val_loss: 1.3854 - val_acc: 0.2889\n",
            "Epoch 36/50\n",
            "105/105 [==============================] - 0s 63us/sample - loss: 5.6797 - acc: 0.1619 - val_loss: 1.3865 - val_acc: 0.2889\n",
            "Epoch 37/50\n",
            "105/105 [==============================] - 0s 70us/sample - loss: 5.6797 - acc: 0.1619 - val_loss: 1.3877 - val_acc: 0.2889\n",
            "Epoch 38/50\n",
            "105/105 [==============================] - 0s 34us/sample - loss: 5.6797 - acc: 0.1619 - val_loss: 1.3889 - val_acc: 0.2889\n",
            "Epoch 39/50\n",
            "105/105 [==============================] - 0s 42us/sample - loss: 5.6797 - acc: 0.1619 - val_loss: 1.3902 - val_acc: 0.2889\n",
            "Epoch 40/50\n",
            "105/105 [==============================] - 0s 54us/sample - loss: 5.6797 - acc: 0.1619 - val_loss: 1.3914 - val_acc: 0.2889\n",
            "Epoch 41/50\n",
            "105/105 [==============================] - 0s 38us/sample - loss: 5.6797 - acc: 0.1619 - val_loss: 1.3927 - val_acc: 0.2889\n",
            "Epoch 42/50\n",
            "105/105 [==============================] - 0s 50us/sample - loss: 5.6797 - acc: 0.1619 - val_loss: 1.3940 - val_acc: 0.2889\n",
            "Epoch 43/50\n",
            "105/105 [==============================] - 0s 33us/sample - loss: 5.6797 - acc: 0.1619 - val_loss: 1.3953 - val_acc: 0.2889\n",
            "Epoch 44/50\n",
            "105/105 [==============================] - 0s 32us/sample - loss: 5.6797 - acc: 0.1619 - val_loss: 1.3966 - val_acc: 0.2889\n",
            "Epoch 45/50\n",
            "105/105 [==============================] - 0s 65us/sample - loss: 5.6797 - acc: 0.1619 - val_loss: 1.3979 - val_acc: 0.2889\n",
            "Epoch 46/50\n",
            "105/105 [==============================] - 0s 58us/sample - loss: 5.6797 - acc: 0.1619 - val_loss: 1.3993 - val_acc: 0.2889\n",
            "Epoch 47/50\n",
            "105/105 [==============================] - 0s 72us/sample - loss: 5.6797 - acc: 0.1619 - val_loss: 1.4007 - val_acc: 0.2889\n",
            "Epoch 48/50\n",
            "105/105 [==============================] - 0s 54us/sample - loss: 5.6797 - acc: 0.1619 - val_loss: 1.4021 - val_acc: 0.2889\n",
            "Epoch 49/50\n",
            "105/105 [==============================] - 0s 58us/sample - loss: 5.6797 - acc: 0.1619 - val_loss: 1.4035 - val_acc: 0.2889\n",
            "Epoch 50/50\n",
            "105/105 [==============================] - 0s 50us/sample - loss: 5.6797 - acc: 0.1619 - val_loss: 1.4050 - val_acc: 0.2889\n"
          ],
          "name": "stdout"
        },
        {
          "output_type": "execute_result",
          "data": {
            "text/plain": [
              "<tensorflow.python.keras.callbacks.History at 0x7f5276274090>"
            ]
          },
          "metadata": {
            "tags": []
          },
          "execution_count": 44
        }
      ]
    },
    {
      "metadata": {
        "colab_type": "text",
        "id": "P32ASP1Vjt0a"
      },
      "cell_type": "markdown",
      "source": [
        "### Save the Model"
      ]
    },
    {
      "metadata": {
        "id": "-Uo1F2pgv7Oy",
        "colab_type": "code",
        "colab": {}
      },
      "cell_type": "code",
      "source": [
        "model.save_weights('iris_weights.h5')"
      ],
      "execution_count": 0,
      "outputs": []
    },
    {
      "metadata": {
        "colab_type": "code",
        "id": "n8rd0jjAjyTR",
        "colab": {
          "base_uri": "https://localhost:8080/",
          "height": 741
        },
        "outputId": "6e6deea1-f88f-4e40-95ff-3887c592288c"
      },
      "cell_type": "code",
      "source": [
        "model.save('iris.h5')"
      ],
      "execution_count": 46,
      "outputs": [
        {
          "output_type": "error",
          "ename": "RuntimeError",
          "evalue": "ignored",
          "traceback": [
            "\u001b[0;31m\u001b[0m",
            "\u001b[0;31mRuntimeError\u001b[0mTraceback (most recent call last)",
            "\u001b[0;32m<ipython-input-46-2ffbda398e6f>\u001b[0m in \u001b[0;36m<module>\u001b[0;34m()\u001b[0m\n\u001b[0;32m----> 1\u001b[0;31m \u001b[0mmodel\u001b[0m\u001b[0;34m.\u001b[0m\u001b[0msave\u001b[0m\u001b[0;34m(\u001b[0m\u001b[0;34m'iris.h5'\u001b[0m\u001b[0;34m)\u001b[0m\u001b[0;34m\u001b[0m\u001b[0m\n\u001b[0m",
            "\u001b[0;32m/usr/local/lib/python2.7/dist-packages/tensorflow/python/keras/engine/sequential.pyc\u001b[0m in \u001b[0;36msave\u001b[0;34m(self, filepath, overwrite, include_optimizer)\u001b[0m\n\u001b[1;32m    317\u001b[0m   \u001b[0;32mdef\u001b[0m \u001b[0msave\u001b[0m\u001b[0;34m(\u001b[0m\u001b[0mself\u001b[0m\u001b[0;34m,\u001b[0m \u001b[0mfilepath\u001b[0m\u001b[0;34m,\u001b[0m \u001b[0moverwrite\u001b[0m\u001b[0;34m=\u001b[0m\u001b[0mTrue\u001b[0m\u001b[0;34m,\u001b[0m \u001b[0minclude_optimizer\u001b[0m\u001b[0;34m=\u001b[0m\u001b[0mTrue\u001b[0m\u001b[0;34m)\u001b[0m\u001b[0;34m:\u001b[0m\u001b[0;34m\u001b[0m\u001b[0m\n\u001b[1;32m    318\u001b[0m     \u001b[0;32mfrom\u001b[0m \u001b[0mtensorflow\u001b[0m\u001b[0;34m.\u001b[0m\u001b[0mpython\u001b[0m\u001b[0;34m.\u001b[0m\u001b[0mkeras\u001b[0m\u001b[0;34m.\u001b[0m\u001b[0mmodels\u001b[0m \u001b[0;32mimport\u001b[0m \u001b[0msave_model\u001b[0m  \u001b[0;31m# pylint: disable=g-import-not-at-top\u001b[0m\u001b[0;34m\u001b[0m\u001b[0m\n\u001b[0;32m--> 319\u001b[0;31m     \u001b[0msave_model\u001b[0m\u001b[0;34m(\u001b[0m\u001b[0mself\u001b[0m\u001b[0;34m,\u001b[0m \u001b[0mfilepath\u001b[0m\u001b[0;34m,\u001b[0m \u001b[0moverwrite\u001b[0m\u001b[0;34m,\u001b[0m \u001b[0minclude_optimizer\u001b[0m\u001b[0;34m)\u001b[0m\u001b[0;34m\u001b[0m\u001b[0m\n\u001b[0m\u001b[1;32m    320\u001b[0m \u001b[0;34m\u001b[0m\u001b[0m\n\u001b[1;32m    321\u001b[0m   \u001b[0;32mdef\u001b[0m \u001b[0mget_config\u001b[0m\u001b[0;34m(\u001b[0m\u001b[0mself\u001b[0m\u001b[0;34m)\u001b[0m\u001b[0;34m:\u001b[0m\u001b[0;34m\u001b[0m\u001b[0m\n",
            "\u001b[0;32m/usr/local/lib/python2.7/dist-packages/tensorflow/python/keras/engine/saving.pyc\u001b[0m in \u001b[0;36msave_model\u001b[0;34m(model, filepath, overwrite, include_optimizer)\u001b[0m\n\u001b[1;32m    150\u001b[0m           \u001b[0;32mfor\u001b[0m \u001b[0mname\u001b[0m\u001b[0;34m,\u001b[0m \u001b[0mval\u001b[0m \u001b[0;32min\u001b[0m \u001b[0mzip\u001b[0m\u001b[0;34m(\u001b[0m\u001b[0mweight_names\u001b[0m\u001b[0;34m,\u001b[0m \u001b[0mweight_values\u001b[0m\u001b[0;34m)\u001b[0m\u001b[0;34m:\u001b[0m\u001b[0;34m\u001b[0m\u001b[0m\n\u001b[1;32m    151\u001b[0m             param_dset = optimizer_weights_group.create_dataset(\n\u001b[0;32m--> 152\u001b[0;31m                 name, val.shape, dtype=val.dtype)\n\u001b[0m\u001b[1;32m    153\u001b[0m             \u001b[0;32mif\u001b[0m \u001b[0;32mnot\u001b[0m \u001b[0mval\u001b[0m\u001b[0;34m.\u001b[0m\u001b[0mshape\u001b[0m\u001b[0;34m:\u001b[0m\u001b[0;34m\u001b[0m\u001b[0m\n\u001b[1;32m    154\u001b[0m               \u001b[0;31m# scalar\u001b[0m\u001b[0;34m\u001b[0m\u001b[0;34m\u001b[0m\u001b[0m\n",
            "\u001b[0;32m/usr/local/lib/python2.7/dist-packages/h5py/_hl/group.pyc\u001b[0m in \u001b[0;36mcreate_dataset\u001b[0;34m(self, name, shape, dtype, data, **kwds)\u001b[0m\n\u001b[1;32m    117\u001b[0m             \u001b[0mdset\u001b[0m \u001b[0;34m=\u001b[0m \u001b[0mdataset\u001b[0m\u001b[0;34m.\u001b[0m\u001b[0mDataset\u001b[0m\u001b[0;34m(\u001b[0m\u001b[0mdsid\u001b[0m\u001b[0;34m)\u001b[0m\u001b[0;34m\u001b[0m\u001b[0m\n\u001b[1;32m    118\u001b[0m             \u001b[0;32mif\u001b[0m \u001b[0mname\u001b[0m \u001b[0;32mis\u001b[0m \u001b[0;32mnot\u001b[0m \u001b[0mNone\u001b[0m\u001b[0;34m:\u001b[0m\u001b[0;34m\u001b[0m\u001b[0m\n\u001b[0;32m--> 119\u001b[0;31m                 \u001b[0mself\u001b[0m\u001b[0;34m[\u001b[0m\u001b[0mname\u001b[0m\u001b[0;34m]\u001b[0m \u001b[0;34m=\u001b[0m \u001b[0mdset\u001b[0m\u001b[0;34m\u001b[0m\u001b[0m\n\u001b[0m\u001b[1;32m    120\u001b[0m             \u001b[0;32mreturn\u001b[0m \u001b[0mdset\u001b[0m\u001b[0;34m\u001b[0m\u001b[0m\n\u001b[1;32m    121\u001b[0m \u001b[0;34m\u001b[0m\u001b[0m\n",
            "\u001b[0;32m/usr/local/lib/python2.7/dist-packages/h5py/_hl/group.pyc\u001b[0m in \u001b[0;36m__setitem__\u001b[0;34m(self, name, obj)\u001b[0m\n\u001b[1;32m    285\u001b[0m \u001b[0;34m\u001b[0m\u001b[0m\n\u001b[1;32m    286\u001b[0m             \u001b[0;32mif\u001b[0m \u001b[0misinstance\u001b[0m\u001b[0;34m(\u001b[0m\u001b[0mobj\u001b[0m\u001b[0;34m,\u001b[0m \u001b[0mHLObject\u001b[0m\u001b[0;34m)\u001b[0m\u001b[0;34m:\u001b[0m\u001b[0;34m\u001b[0m\u001b[0m\n\u001b[0;32m--> 287\u001b[0;31m                 \u001b[0mh5o\u001b[0m\u001b[0;34m.\u001b[0m\u001b[0mlink\u001b[0m\u001b[0;34m(\u001b[0m\u001b[0mobj\u001b[0m\u001b[0;34m.\u001b[0m\u001b[0mid\u001b[0m\u001b[0;34m,\u001b[0m \u001b[0mself\u001b[0m\u001b[0;34m.\u001b[0m\u001b[0mid\u001b[0m\u001b[0;34m,\u001b[0m \u001b[0mname\u001b[0m\u001b[0;34m,\u001b[0m \u001b[0mlcpl\u001b[0m\u001b[0;34m=\u001b[0m\u001b[0mlcpl\u001b[0m\u001b[0;34m,\u001b[0m \u001b[0mlapl\u001b[0m\u001b[0;34m=\u001b[0m\u001b[0mself\u001b[0m\u001b[0;34m.\u001b[0m\u001b[0m_lapl\u001b[0m\u001b[0;34m)\u001b[0m\u001b[0;34m\u001b[0m\u001b[0m\n\u001b[0m\u001b[1;32m    288\u001b[0m \u001b[0;34m\u001b[0m\u001b[0m\n\u001b[1;32m    289\u001b[0m             \u001b[0;32melif\u001b[0m \u001b[0misinstance\u001b[0m\u001b[0;34m(\u001b[0m\u001b[0mobj\u001b[0m\u001b[0;34m,\u001b[0m \u001b[0mSoftLink\u001b[0m\u001b[0;34m)\u001b[0m\u001b[0;34m:\u001b[0m\u001b[0;34m\u001b[0m\u001b[0m\n",
            "\u001b[0;32mh5py/_objects.pyx\u001b[0m in \u001b[0;36mh5py._objects.with_phil.wrapper\u001b[0;34m()\u001b[0m\n",
            "\u001b[0;32mh5py/_objects.pyx\u001b[0m in \u001b[0;36mh5py._objects.with_phil.wrapper\u001b[0;34m()\u001b[0m\n",
            "\u001b[0;32mh5py/h5o.pyx\u001b[0m in \u001b[0;36mh5py.h5o.link\u001b[0;34m()\u001b[0m\n",
            "\u001b[0;31mRuntimeError\u001b[0m: Unable to create link (name already exists)"
          ]
        }
      ]
    },
    {
      "metadata": {
        "colab_type": "text",
        "id": "XiipRpe7rbVh"
      },
      "cell_type": "markdown",
      "source": [
        "### Build and Train a Deep Neural network with 2 hidden layer  - Optional - For Practice\n",
        "\n",
        "Does it perform better than Linear Classifier? What could be the reason for difference in performance?"
      ]
    },
    {
      "metadata": {
        "colab_type": "code",
        "id": "v5Du3lubr4sA",
        "colab": {}
      },
      "cell_type": "code",
      "source": [
        ""
      ],
      "execution_count": 0,
      "outputs": []
    }
  ]
}